{
 "cells": [
  {
   "cell_type": "code",
   "execution_count": null,
   "id": "60dacd93-713c-48c4-a170-df37179f053f",
   "metadata": {},
   "outputs": [],
   "source": [
    "import geopandas\n",
    "import pandas as pd\n",
    "import pgeocode\n",
    "import plotly.graph_objects as go\n",
    "nomi = pgeocode.Nominatim('ca')\n",
    "import numpy as np\n",
    "import folium\n",
    "try:\n",
    "    import haversine as hs\n",
    "except:\n",
    "    !pip install --user haversine\n",
    "    import haversine as hs"
   ]
  },
  {
   "cell_type": "code",
   "execution_count": null,
   "id": "5e5ca7aa-22c8-4028-aec5-b6eabcfb3fb3",
   "metadata": {},
   "outputs": [],
   "source": [
    "data = pd.read_csv('data/Connected member addresses for network map November 2022 - Sheet1.csv', header=None, \n",
    "                   names=['Member', 'Address', 'City', 'Postal Code'])\n",
    "data.iloc[56]['Postal Code'] = 'T0L 0Z0' # Someone entered this wihout a space\n",
    "data.drop([36, 38], axis=0, inplace=True) # Centers in Germany and France\n",
    "data"
   ]
  },
  {
   "cell_type": "code",
   "execution_count": null,
   "id": "b4f9a66c",
   "metadata": {},
   "outputs": [],
   "source": [
    "len(data['City'].unique())"
   ]
  },
  {
   "cell_type": "code",
   "execution_count": null,
   "id": "383c1dac-72b4-48c7-898b-d26870e2774e",
   "metadata": {},
   "outputs": [],
   "source": [
    "lats = []\n",
    "lons = []\n",
    "for i in data['Postal Code']:\n",
    "    location = nomi.query_postal_code(i)\n",
    "    lats.append(location['latitude'])\n",
    "    lons.append(location['longitude'])\n",
    "data['Latitude'] = lats\n",
    "data['Longitude'] = lons\n",
    "data['geometry'] = geopandas.points_from_xy(data['Latitude'], data['Longitude'])\n",
    "data.sort_values(by='Latitude', inplace=True)\n",
    "data"
   ]
  },
  {
   "cell_type": "code",
   "execution_count": null,
   "id": "1e2bab23",
   "metadata": {},
   "outputs": [],
   "source": [
    "# it looks like it is returning the wrong location for Morley, it should be 51.16153, -114.85095\n",
    "data[data['City'] == 'Morley']"
   ]
  },
  {
   "cell_type": "code",
   "execution_count": null,
   "id": "3ada83b7",
   "metadata": {},
   "outputs": [],
   "source": [
    "# def getCityLocation(city):\n",
    "#     location = data[data['City'] == city]#[['Latitude', 'Longitude']].mean()\n",
    "#     #location = nomi.query_location(city)\n",
    "#     #if not location['latitude'].mean() > 40:\n",
    "#     #    postal_code = data[data['City'] == city]['Postal Code'].unique()[0]\n",
    "#     #    location = nomi.query_postal_code(postal_code)\n",
    "#     return location['Latitude'].mean(), location['Longitude'].mean()\n",
    "\n",
    "# cities_dict = {}\n",
    "# for city in data['City'].unique():\n",
    "#     cities_dict[city] = getCityLocation(city)\n",
    "# cities = pd.DataFrame.from_dict(cities_dict, orient='index', columns=['Latitude', 'Longitude'])\n",
    "# cities.reset_index(inplace=True)\n",
    "# cities.rename(columns={'index':'Name'}, inplace=True)\n",
    "# cities"
   ]
  },
  {
   "cell_type": "code",
   "execution_count": null,
   "id": "cf37984e",
   "metadata": {},
   "outputs": [],
   "source": [
    "#cities.to_csv('data/cities.csv', index=False)"
   ]
  },
  {
   "cell_type": "markdown",
   "id": "4f2fa32f-2379-464d-a019-847347b8349f",
   "metadata": {},
   "source": [
    "The below section simply recalculates the lat/long coords using a different implementation of Nominatim, dropping the point in the center of the population centers.\n",
    "\n",
    "Manually inspecting all the points, the following are still a little off:\n",
    "\n",
    "- Wainwright\n",
    "- Taber\n",
    "- Barrhead\n",
    "\n",
    "With just three, it's simpler to manually fix them using the coordinates given by Wikipedia/GeoHack"
   ]
  },
  {
   "cell_type": "code",
   "execution_count": null,
   "id": "78fb67d4-a010-4505-b99d-7663e7f3771c",
   "metadata": {},
   "outputs": [],
   "source": [
    "cities = pd.DataFrame(data['City'].unique(), columns=['Name'])\n",
    "\n",
    "from geopy.geocoders import Nominatim\n",
    "nomi2 = Nominatim(user_agent='my_application')\n",
    "\n",
    "lats2 = []\n",
    "lons2 = []\n",
    "    \n",
    "for c in cities['Name']:\n",
    "    location2 = nomi2.geocode(c + ', AB') # catches a few edge cases of similarly named places outside of AB\n",
    "    lats2.append(location2[1][0])\n",
    "    lons2.append(location2[1][1])\n",
    "cities['Latitude'] = lats2\n",
    "cities['Longitude'] = lons2\n",
    "\n",
    "# Taber\n",
    "cities.at[1,'Latitude'] = 49.784722\n",
    "cities.at[1,'Longitude'] = -112.150833\n",
    "\n",
    "# Wainwright\n",
    "cities.at[18,'Latitude'] = 52.833333\n",
    "cities.at[18,'Longitude'] = -110.866667\n",
    "\n",
    "# Barrhead\n",
    "cities.at[30,'Latitude'] = 54.116667\n",
    "cities.at[30,'Longitude'] = -114.4\n",
    "\n",
    "    \n",
    "cities"
   ]
  },
  {
   "cell_type": "code",
   "execution_count": null,
   "id": "5cb093f3",
   "metadata": {},
   "outputs": [],
   "source": [
    "cities_map = folium.Map(location=[cities['Latitude'].mean(), cities['Longitude'].mean()], zoom_start=5)\n",
    "for i in range(0,len(cities)):\n",
    "    folium.Marker([cities.iloc[i]['Latitude'], cities.iloc[i]['Longitude']], popup=cities.iloc[i]['Name']).add_to(cities_map)\n",
    "cities_map"
   ]
  },
  {
   "cell_type": "code",
   "execution_count": null,
   "id": "f78d2068",
   "metadata": {},
   "outputs": [],
   "source": [
    "cities.sort_values(by='Latitude', inplace=True)\n",
    "\n",
    "distances_list = []\n",
    "for i in range(len(cities)):\n",
    "    distances_list.append([cities.iloc[i]['Name'], cities.iloc[i-1]['Name'], \n",
    "                      hs.haversine((cities.iloc[i]['Latitude'], cities.iloc[i]['Longitude']), \n",
    "                                   (cities.iloc[i-1]['Latitude'], cities.iloc[i-1]['Longitude']))])\n",
    "dbc = pd.DataFrame(distances_list, columns=['City', 'Next City', 'Distance'])\n",
    "dbc"
   ]
  },
  {
   "cell_type": "code",
   "execution_count": null,
   "id": "b5807dd7",
   "metadata": {},
   "outputs": [],
   "source": [
    "dbc[dbc['Distance'] < 75]"
   ]
  },
  {
   "cell_type": "code",
   "execution_count": null,
   "id": "4033e7c5",
   "metadata": {},
   "outputs": [],
   "source": [
    "cities_to_replace = {\n",
    "    'Taber':'Lethbridge',\n",
    "    'Dunmore':'Medicine Hat',\n",
    "    'Morley':'Canmore',\n",
    "    'Banff':'Canmore',\n",
    "    'Ponoka':'Lacombe',\n",
    "    'Wetaskiwin':'Camrose',\n",
    "    'Leduc':'Edmonton',\n",
    "    'Nisku':'Edmonton',\n",
    "    'Spruce Grove':'Edmonton',\n",
    "    'Stony Plain':'Edmonton',\n",
    "    'St. Albert':'Edmonton',\n",
    "    'Morinville':'Edmonton',\n",
    "    'Elk Point':'Lac La Biche',\n",
    "    'Grouard':'High Prairie',\n",
    "    'Red Earth Creek':'High Prairie',\n",
    "    'Fort Vermilion':'Grimshaw',\n",
    "}"
   ]
  },
  {
   "cell_type": "code",
   "execution_count": null,
   "id": "f3e38f8c",
   "metadata": {},
   "outputs": [],
   "source": [
    "rows_to_drop = []\n",
    "for i in range(len(cities)):\n",
    "    if cities.iloc[i]['Name'] in cities_to_replace.keys():\n",
    "        print(i, cities.iloc[i]['Name'])\n",
    "        rows_to_drop.append(i)\n",
    "rows_to_drop"
   ]
  },
  {
   "cell_type": "code",
   "execution_count": null,
   "id": "8eefa0c0",
   "metadata": {},
   "outputs": [],
   "source": [
    "updated_cities = cities.drop(rows_to_drop, axis=0)\n",
    "updated_cities.reset_index(inplace=True, drop=True)\n",
    "updated_cities"
   ]
  },
  {
   "cell_type": "code",
   "execution_count": null,
   "id": "35b83a6b",
   "metadata": {},
   "outputs": [],
   "source": [
    "#updated_cities.to_csv('data/updated_cities.csv', index=False)"
   ]
  },
  {
   "cell_type": "code",
   "execution_count": null,
   "id": "eb6c1d67",
   "metadata": {},
   "outputs": [],
   "source": [
    "updated_cities_map = folium.Map(location=[updated_cities['Latitude'].mean(), updated_cities['Longitude'].mean()], zoom_start=5)\n",
    "for i in range(0,len(updated_cities)):\n",
    "    folium.Marker([updated_cities.iloc[i]['Latitude'], updated_cities.iloc[i]['Longitude']], popup=updated_cities.iloc[i]['Name']).add_to(updated_cities_map)\n",
    "updated_cities_map"
   ]
  },
  {
   "cell_type": "code",
   "execution_count": null,
   "id": "867fb1f2-b858-474a-a3c6-169fe80e74f4",
   "metadata": {},
   "outputs": [],
   "source": [
    "fig0 = go.Figure(data=go.Scattergeo(\n",
    "    lat = data['Latitude'],\n",
    "    lon = data['Longitude'],\n",
    "    text = data['Member']\n",
    ")\n",
    "               )\n",
    "\n",
    "fig0.update_layout(\n",
    "    geo = dict(\n",
    "        scope = 'north america',\n",
    "        showland = True,\n",
    "        #landcolor = \"rgb(212, 212, 212)\",\n",
    "        landcolor = \"rgb(255, 255, 255)\",\n",
    "        subunitcolor = \"rgb(0, 0, 0)\",\n",
    "        countrycolor = \"rgb(255, 255, 255)\",\n",
    "        showlakes = False,\n",
    "        lakecolor = \"rgb(255, 255, 255)\",\n",
    "        showsubunits = True,\n",
    "        showcountries = True,\n",
    "        resolution = 50,\n",
    "        projection = dict(\n",
    "            type = 'conic conformal',\n",
    "            rotation_lon = -100\n",
    "        ),\n",
    "        lonaxis = dict(\n",
    "            showgrid = True,\n",
    "            gridwidth = 0.5,\n",
    "            range= [ -140.0, -55.0 ],\n",
    "            dtick = 5\n",
    "        ),\n",
    "        lataxis = dict (\n",
    "            showgrid = True,\n",
    "            gridwidth = 0.5,\n",
    "            range= [ 20.0, 60.0 ],\n",
    "            dtick = 5\n",
    "        )\n",
    "    ),\n",
    "    title='Cybera Member locations',\n",
    "    height=600,\n",
    "    width=600,\n",
    "    margin={\"r\":0,\"t\":0,\"l\":0,\"b\":0}\n",
    ")\n",
    "fig0.update_geos(lataxis_range=[48,61],\n",
    "               lonaxis_range=[-120,-110])\n",
    "fig0.show()\n",
    "#fig.write_html('membermap.html')"
   ]
  },
  {
   "cell_type": "code",
   "execution_count": null,
   "id": "7b736b14",
   "metadata": {},
   "outputs": [],
   "source": [
    "fig3 = go.Figure(data=go.Scattergeo(\n",
    "    lat = updated_cities['Latitude'],\n",
    "    lon = updated_cities['Longitude'],\n",
    "    text = updated_cities['Name']\n",
    ")\n",
    "               )\n",
    "\n",
    "fig3.update_layout(\n",
    "    geo = dict(\n",
    "        scope = 'north america',\n",
    "        showland = True,\n",
    "        #landcolor = \"rgb(212, 212, 212)\",\n",
    "        landcolor = \"rgb(255, 255, 255)\",\n",
    "        subunitcolor = \"rgb(0, 0, 0)\",\n",
    "        countrycolor = \"rgb(255, 255, 255)\",\n",
    "        showlakes = False,\n",
    "        lakecolor = \"rgb(255, 255, 255)\",\n",
    "        showsubunits = True,\n",
    "        showcountries = True,\n",
    "        resolution = 50,\n",
    "        projection = dict(\n",
    "            type = 'conic conformal',\n",
    "            rotation_lon = -100\n",
    "        ),\n",
    "        lonaxis = dict(\n",
    "            showgrid = True,\n",
    "            gridwidth = 0.5,\n",
    "            range= [ -140.0, -55.0 ],\n",
    "            dtick = 5\n",
    "        ),\n",
    "        lataxis = dict (\n",
    "            showgrid = True,\n",
    "            gridwidth = 0.5,\n",
    "            range= [ 20.0, 60.0 ],\n",
    "            dtick = 5\n",
    "        )\n",
    "    ),\n",
    "    title='Cybera Member locations',\n",
    "    height=600,\n",
    "    width=600,\n",
    "    margin={\"r\":0,\"t\":0,\"l\":0,\"b\":0}\n",
    ")\n",
    "fig3.update_geos(lataxis_range=[48,61],\n",
    "               lonaxis_range=[-120,-110])\n",
    "fig3.show()\n",
    "#fig3.write_html('membermap.html')"
   ]
  },
  {
   "cell_type": "code",
   "execution_count": null,
   "id": "28990f21",
   "metadata": {},
   "outputs": [],
   "source": [
    "#!pip install kaleido\n",
    "# fig3.write_image('membermap.svg')"
   ]
  }
 ],
 "metadata": {
  "kernelspec": {
   "display_name": "Python 3 (ipykernel)",
   "language": "python",
   "name": "python3"
  },
  "language_info": {
   "codemirror_mode": {
    "name": "ipython",
    "version": 3
   },
   "file_extension": ".py",
   "mimetype": "text/x-python",
   "name": "python",
   "nbconvert_exporter": "python",
   "pygments_lexer": "ipython3",
   "version": "3.9.12"
  },
  "vscode": {
   "interpreter": {
    "hash": "d1ca6d17674200220921376aaeb3d36cffe15ecab2470a9a5e7a456cdbf61425"
   }
  }
 },
 "nbformat": 4,
 "nbformat_minor": 5
}
