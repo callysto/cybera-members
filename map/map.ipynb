{
 "cells": [
  {
   "cell_type": "code",
   "execution_count": null,
   "id": "60dacd93-713c-48c4-a170-df37179f053f",
   "metadata": {},
   "outputs": [],
   "source": [
    "import geopandas\n",
    "import pandas as pd\n",
    "import pgeocode\n",
    "import plotly.graph_objects as go\n",
    "nomi = pgeocode.Nominatim('ca')"
   ]
  },
  {
   "cell_type": "code",
   "execution_count": null,
   "id": "5e5ca7aa-22c8-4028-aec5-b6eabcfb3fb3",
   "metadata": {},
   "outputs": [],
   "source": [
    "data = pd.read_csv('data/Connected member addresses for network map November 2022 - Sheet1.csv', header=None, \n",
    "                   names=['Member', 'Address', 'City', 'Postal Code'])\n",
    "data.iloc[56]['Postal Code'] = 'T0L 0Z0' # Someone entered this wihout a space\n",
    "data.drop([36, 38], axis=0, inplace=True) # Centers in Germany and France\n",
    "data"
   ]
  },
  {
   "cell_type": "code",
   "execution_count": null,
   "id": "383c1dac-72b4-48c7-898b-d26870e2774e",
   "metadata": {},
   "outputs": [],
   "source": [
    "lats = []\n",
    "lons = []\n",
    "for i in data['Postal Code']:\n",
    "    lats.append(nomi.query_postal_code(i)['latitude'])\n",
    "    lons.append(nomi.query_postal_code(i)['longitude'])\n",
    "data['lat'] = lats\n",
    "data['lon'] = lons\n",
    "data['geometry'] = geopandas.points_from_xy(data['lat'], data['lon'])\n",
    "data"
   ]
  },
  {
   "cell_type": "code",
   "execution_count": null,
   "id": "867fb1f2-b858-474a-a3c6-169fe80e74f4",
   "metadata": {},
   "outputs": [],
   "source": [
    "fig = go.Figure(data=go.Scattergeo(\n",
    "    lat = data['lat'],\n",
    "    lon = data['lon'],\n",
    "    text = data['Member']\n",
    ")\n",
    "               )\n",
    "\n",
    "fig.update_layout(\n",
    "    geo = dict(\n",
    "        scope = 'north america',\n",
    "        showland = True,\n",
    "        landcolor = \"rgb(212, 212, 212)\",\n",
    "        subunitcolor = \"rgb(255, 255, 255)\",\n",
    "        countrycolor = \"rgb(255, 255, 255)\",\n",
    "        showlakes = True,\n",
    "        lakecolor = \"rgb(255, 255, 255)\",\n",
    "        showsubunits = True,\n",
    "        showcountries = True,\n",
    "        resolution = 50,\n",
    "        projection = dict(\n",
    "            type = 'conic conformal',\n",
    "            rotation_lon = -100\n",
    "        ),\n",
    "        lonaxis = dict(\n",
    "            showgrid = True,\n",
    "            gridwidth = 0.5,\n",
    "            range= [ -140.0, -55.0 ],\n",
    "            dtick = 5\n",
    "        ),\n",
    "        lataxis = dict (\n",
    "            showgrid = True,\n",
    "            gridwidth = 0.5,\n",
    "            range= [ 20.0, 60.0 ],\n",
    "            dtick = 5\n",
    "        )\n",
    "    ),\n",
    "    title='Cybera Member locations',\n",
    "    height=600,\n",
    "    width=600,\n",
    "    margin={\"r\":0,\"t\":0,\"l\":0,\"b\":0}\n",
    ")\n",
    "fig.update_geos(lataxis_range=[48,61],\n",
    "               lonaxis_range=[-120,-110])\n",
    "fig.show()\n",
    "#fig.write_html('membermap.html')"
   ]
  },
  {
   "attachments": {},
   "cell_type": "markdown",
   "id": "b9d60158",
   "metadata": {},
   "source": [
    "## Finding Scale distances on a 4x8 sheet of plywood"
   ]
  },
  {
   "cell_type": "code",
   "execution_count": null,
   "id": "24a55e79",
   "metadata": {},
   "outputs": [],
   "source": [
    "'''\n",
    "try:\n",
    "    import haversine as hs\n",
    "except:\n",
    "    !pip install --user haversine\n",
    "    import haversine as hs\n",
    "'''\n",
    "x_range = [data['lon'].max(), data['lon'].min()]\n",
    "y_range = [data['lat'].max(), data['lat'].min()]\n",
    "data['x'] = (data['lon'] - x_range[1]) / (x_range[0] - x_range[1])\n",
    "data['y'] = (data['lat'] - y_range[1]) / (y_range[0] - y_range[1])\n",
    "data['x inches'] = data['x'] * 46\n",
    "data['y inches'] = data['y'] * 46\n",
    "data"
   ]
  },
  {
   "cell_type": "code",
   "execution_count": null,
   "id": "ef57c5cb",
   "metadata": {},
   "outputs": [],
   "source": [
    "import plotly.express as px\n",
    "px.scatter(data, x='x inches', y='y inches', hover_name='Member', hover_data=['Address', 'City', 'Postal Code'], height=800, width=400).show()\n",
    "fig.show()"
   ]
  }
 ],
 "metadata": {
  "kernelspec": {
   "display_name": "Python 3",
   "language": "python",
   "name": "python3"
  },
  "language_info": {
   "codemirror_mode": {
    "name": "ipython",
    "version": 3
   },
   "file_extension": ".py",
   "mimetype": "text/x-python",
   "name": "python",
   "nbconvert_exporter": "python",
   "pygments_lexer": "ipython3",
   "version": "3.10.1"
  },
  "vscode": {
   "interpreter": {
    "hash": "d1ca6d17674200220921376aaeb3d36cffe15ecab2470a9a5e7a456cdbf61425"
   }
  }
 },
 "nbformat": 4,
 "nbformat_minor": 5
}
