{
 "cells": [
  {
   "cell_type": "code",
   "execution_count": 1,
   "id": "60dacd93-713c-48c4-a170-df37179f053f",
   "metadata": {},
   "outputs": [],
   "source": [
    "import geopandas\n",
    "import pandas as pd\n",
    "import pgeocode\n",
    "import plotly.graph_objects as go\n",
    "nomi = pgeocode.Nominatim('ca')"
   ]
  },
  {
   "cell_type": "code",
   "execution_count": 2,
   "id": "5e5ca7aa-22c8-4028-aec5-b6eabcfb3fb3",
   "metadata": {},
   "outputs": [
    {
     "data": {
      "text/html": [
       "<div>\n",
       "<style scoped>\n",
       "    .dataframe tbody tr th:only-of-type {\n",
       "        vertical-align: middle;\n",
       "    }\n",
       "\n",
       "    .dataframe tbody tr th {\n",
       "        vertical-align: top;\n",
       "    }\n",
       "\n",
       "    .dataframe thead th {\n",
       "        text-align: right;\n",
       "    }\n",
       "</style>\n",
       "<table border=\"1\" class=\"dataframe\">\n",
       "  <thead>\n",
       "    <tr style=\"text-align: right;\">\n",
       "      <th></th>\n",
       "      <th>Member</th>\n",
       "      <th>Address</th>\n",
       "      <th>City</th>\n",
       "      <th>Postal Code</th>\n",
       "    </tr>\n",
       "  </thead>\n",
       "  <tbody>\n",
       "    <tr>\n",
       "      <th>0</th>\n",
       "      <td>Alberta Conference SDA Church</td>\n",
       "      <td>5816 Hwy 2A</td>\n",
       "      <td>Lacombe</td>\n",
       "      <td>T4L 2G5</td>\n",
       "    </tr>\n",
       "    <tr>\n",
       "      <th>1</th>\n",
       "      <td>Alberta Health Services</td>\n",
       "      <td>48 Quarry Park Blvd. SE</td>\n",
       "      <td>Calgary</td>\n",
       "      <td>T2C 5P2</td>\n",
       "    </tr>\n",
       "    <tr>\n",
       "      <th>2</th>\n",
       "      <td>Alberta Innovates</td>\n",
       "      <td>1500, 10104 - 103 Avenue</td>\n",
       "      <td>Edmonton</td>\n",
       "      <td>T5J 0H8</td>\n",
       "    </tr>\n",
       "    <tr>\n",
       "      <th>3</th>\n",
       "      <td>Alberta University of the Arts</td>\n",
       "      <td>1407 - 14th Avenue NW</td>\n",
       "      <td>Calgary</td>\n",
       "      <td>T2N 4R3</td>\n",
       "    </tr>\n",
       "    <tr>\n",
       "      <th>4</th>\n",
       "      <td>Aspen View School Division</td>\n",
       "      <td>3600 - 48 Avenue</td>\n",
       "      <td>Athabasca</td>\n",
       "      <td>T9S 1M8</td>\n",
       "    </tr>\n",
       "    <tr>\n",
       "      <th>...</th>\n",
       "      <td>...</td>\n",
       "      <td>...</td>\n",
       "      <td>...</td>\n",
       "      <td>...</td>\n",
       "    </tr>\n",
       "    <tr>\n",
       "      <th>94</th>\n",
       "      <td>University of Lethbridge</td>\n",
       "      <td>4401 University Drive</td>\n",
       "      <td>Lethbridge</td>\n",
       "      <td>T1K 3M4</td>\n",
       "    </tr>\n",
       "    <tr>\n",
       "      <th>95</th>\n",
       "      <td>Wetaskiwin Regional Public Schools</td>\n",
       "      <td>5704 - 51 Street</td>\n",
       "      <td>Wetaskiwin</td>\n",
       "      <td>T9A 3G1</td>\n",
       "    </tr>\n",
       "    <tr>\n",
       "      <th>96</th>\n",
       "      <td>Whipcord Ltd</td>\n",
       "      <td>3528 30 Street North</td>\n",
       "      <td>Lethbridge</td>\n",
       "      <td>T1H 6Z4</td>\n",
       "    </tr>\n",
       "    <tr>\n",
       "      <th>97</th>\n",
       "      <td>Wild Rose School Division No.66</td>\n",
       "      <td>4912 - 43 Street</td>\n",
       "      <td>Rocky Mountain House</td>\n",
       "      <td>T4T 1P4</td>\n",
       "    </tr>\n",
       "    <tr>\n",
       "      <th>98</th>\n",
       "      <td>Wolf Creek Regional Division No.32</td>\n",
       "      <td>6000 Highway 2A</td>\n",
       "      <td>Ponoka</td>\n",
       "      <td>T4J 1P6</td>\n",
       "    </tr>\n",
       "  </tbody>\n",
       "</table>\n",
       "<p>97 rows × 4 columns</p>\n",
       "</div>"
      ],
      "text/plain": [
       "                                Member                   Address  \\\n",
       "0        Alberta Conference SDA Church               5816 Hwy 2A   \n",
       "1              Alberta Health Services   48 Quarry Park Blvd. SE   \n",
       "2                    Alberta Innovates  1500, 10104 - 103 Avenue   \n",
       "3       Alberta University of the Arts     1407 - 14th Avenue NW   \n",
       "4           Aspen View School Division          3600 - 48 Avenue   \n",
       "..                                 ...                       ...   \n",
       "94            University of Lethbridge     4401 University Drive   \n",
       "95  Wetaskiwin Regional Public Schools          5704 - 51 Street   \n",
       "96                        Whipcord Ltd      3528 30 Street North   \n",
       "97     Wild Rose School Division No.66          4912 - 43 Street   \n",
       "98  Wolf Creek Regional Division No.32           6000 Highway 2A   \n",
       "\n",
       "                    City Postal Code  \n",
       "0                Lacombe     T4L 2G5  \n",
       "1                Calgary     T2C 5P2  \n",
       "2               Edmonton     T5J 0H8  \n",
       "3                Calgary     T2N 4R3  \n",
       "4              Athabasca     T9S 1M8  \n",
       "..                   ...         ...  \n",
       "94            Lethbridge     T1K 3M4  \n",
       "95            Wetaskiwin     T9A 3G1  \n",
       "96            Lethbridge     T1H 6Z4  \n",
       "97  Rocky Mountain House     T4T 1P4  \n",
       "98                Ponoka     T4J 1P6  \n",
       "\n",
       "[97 rows x 4 columns]"
      ]
     },
     "execution_count": 2,
     "metadata": {},
     "output_type": "execute_result"
    }
   ],
   "source": [
    "data = pd.read_csv('data/Connected member addresses for network map November 2022 - Sheet1.csv', header=None, \n",
    "                   names=['Member', 'Address', 'City', 'Postal Code'])\n",
    "data.iloc[56]['Postal Code'] = 'T0L 0Z0' # Someone entered this wihout a space\n",
    "data.drop([36, 38], axis=0, inplace=True) # Centers in Germany and France\n",
    "data"
   ]
  },
  {
   "cell_type": "code",
   "execution_count": 3,
   "id": "383c1dac-72b4-48c7-898b-d26870e2774e",
   "metadata": {},
   "outputs": [
    {
     "data": {
      "text/html": [
       "<div>\n",
       "<style scoped>\n",
       "    .dataframe tbody tr th:only-of-type {\n",
       "        vertical-align: middle;\n",
       "    }\n",
       "\n",
       "    .dataframe tbody tr th {\n",
       "        vertical-align: top;\n",
       "    }\n",
       "\n",
       "    .dataframe thead th {\n",
       "        text-align: right;\n",
       "    }\n",
       "</style>\n",
       "<table border=\"1\" class=\"dataframe\">\n",
       "  <thead>\n",
       "    <tr style=\"text-align: right;\">\n",
       "      <th></th>\n",
       "      <th>Member</th>\n",
       "      <th>Address</th>\n",
       "      <th>City</th>\n",
       "      <th>Postal Code</th>\n",
       "      <th>lat</th>\n",
       "      <th>lon</th>\n",
       "      <th>geometry</th>\n",
       "    </tr>\n",
       "  </thead>\n",
       "  <tbody>\n",
       "    <tr>\n",
       "      <th>0</th>\n",
       "      <td>Alberta Conference SDA Church</td>\n",
       "      <td>5816 Hwy 2A</td>\n",
       "      <td>Lacombe</td>\n",
       "      <td>T4L 2G5</td>\n",
       "      <td>52.4668</td>\n",
       "      <td>-113.7353</td>\n",
       "      <td>POINT (52.467 -113.735)</td>\n",
       "    </tr>\n",
       "    <tr>\n",
       "      <th>1</th>\n",
       "      <td>Alberta Health Services</td>\n",
       "      <td>48 Quarry Park Blvd. SE</td>\n",
       "      <td>Calgary</td>\n",
       "      <td>T2C 5P2</td>\n",
       "      <td>50.9870</td>\n",
       "      <td>-113.9634</td>\n",
       "      <td>POINT (50.987 -113.963)</td>\n",
       "    </tr>\n",
       "    <tr>\n",
       "      <th>2</th>\n",
       "      <td>Alberta Innovates</td>\n",
       "      <td>1500, 10104 - 103 Avenue</td>\n",
       "      <td>Edmonton</td>\n",
       "      <td>T5J 0H8</td>\n",
       "      <td>53.5428</td>\n",
       "      <td>-113.4974</td>\n",
       "      <td>POINT (53.543 -113.497)</td>\n",
       "    </tr>\n",
       "    <tr>\n",
       "      <th>3</th>\n",
       "      <td>Alberta University of the Arts</td>\n",
       "      <td>1407 - 14th Avenue NW</td>\n",
       "      <td>Calgary</td>\n",
       "      <td>T2N 4R3</td>\n",
       "      <td>51.0621</td>\n",
       "      <td>-114.1159</td>\n",
       "      <td>POINT (51.062 -114.116)</td>\n",
       "    </tr>\n",
       "    <tr>\n",
       "      <th>4</th>\n",
       "      <td>Aspen View School Division</td>\n",
       "      <td>3600 - 48 Avenue</td>\n",
       "      <td>Athabasca</td>\n",
       "      <td>T9S 1M8</td>\n",
       "      <td>54.7169</td>\n",
       "      <td>-113.2854</td>\n",
       "      <td>POINT (54.717 -113.285)</td>\n",
       "    </tr>\n",
       "    <tr>\n",
       "      <th>...</th>\n",
       "      <td>...</td>\n",
       "      <td>...</td>\n",
       "      <td>...</td>\n",
       "      <td>...</td>\n",
       "      <td>...</td>\n",
       "      <td>...</td>\n",
       "      <td>...</td>\n",
       "    </tr>\n",
       "    <tr>\n",
       "      <th>94</th>\n",
       "      <td>University of Lethbridge</td>\n",
       "      <td>4401 University Drive</td>\n",
       "      <td>Lethbridge</td>\n",
       "      <td>T1K 3M4</td>\n",
       "      <td>49.6511</td>\n",
       "      <td>-112.8351</td>\n",
       "      <td>POINT (49.651 -112.835)</td>\n",
       "    </tr>\n",
       "    <tr>\n",
       "      <th>95</th>\n",
       "      <td>Wetaskiwin Regional Public Schools</td>\n",
       "      <td>5704 - 51 Street</td>\n",
       "      <td>Wetaskiwin</td>\n",
       "      <td>T9A 3G1</td>\n",
       "      <td>52.9668</td>\n",
       "      <td>-113.3687</td>\n",
       "      <td>POINT (52.967 -113.369)</td>\n",
       "    </tr>\n",
       "    <tr>\n",
       "      <th>96</th>\n",
       "      <td>Whipcord Ltd</td>\n",
       "      <td>3528 30 Street North</td>\n",
       "      <td>Lethbridge</td>\n",
       "      <td>T1H 6Z4</td>\n",
       "      <td>49.7000</td>\n",
       "      <td>-112.8186</td>\n",
       "      <td>POINT (49.700 -112.819)</td>\n",
       "    </tr>\n",
       "    <tr>\n",
       "      <th>97</th>\n",
       "      <td>Wild Rose School Division No.66</td>\n",
       "      <td>4912 - 43 Street</td>\n",
       "      <td>Rocky Mountain House</td>\n",
       "      <td>T4T 1P4</td>\n",
       "      <td>52.3668</td>\n",
       "      <td>-114.9188</td>\n",
       "      <td>POINT (52.367 -114.919)</td>\n",
       "    </tr>\n",
       "    <tr>\n",
       "      <th>98</th>\n",
       "      <td>Wolf Creek Regional Division No.32</td>\n",
       "      <td>6000 Highway 2A</td>\n",
       "      <td>Ponoka</td>\n",
       "      <td>T4J 1P6</td>\n",
       "      <td>52.6768</td>\n",
       "      <td>-113.5815</td>\n",
       "      <td>POINT (52.677 -113.582)</td>\n",
       "    </tr>\n",
       "  </tbody>\n",
       "</table>\n",
       "<p>97 rows × 7 columns</p>\n",
       "</div>"
      ],
      "text/plain": [
       "                                Member                   Address  \\\n",
       "0        Alberta Conference SDA Church               5816 Hwy 2A   \n",
       "1              Alberta Health Services   48 Quarry Park Blvd. SE   \n",
       "2                    Alberta Innovates  1500, 10104 - 103 Avenue   \n",
       "3       Alberta University of the Arts     1407 - 14th Avenue NW   \n",
       "4           Aspen View School Division          3600 - 48 Avenue   \n",
       "..                                 ...                       ...   \n",
       "94            University of Lethbridge     4401 University Drive   \n",
       "95  Wetaskiwin Regional Public Schools          5704 - 51 Street   \n",
       "96                        Whipcord Ltd      3528 30 Street North   \n",
       "97     Wild Rose School Division No.66          4912 - 43 Street   \n",
       "98  Wolf Creek Regional Division No.32           6000 Highway 2A   \n",
       "\n",
       "                    City Postal Code      lat       lon  \\\n",
       "0                Lacombe     T4L 2G5  52.4668 -113.7353   \n",
       "1                Calgary     T2C 5P2  50.9870 -113.9634   \n",
       "2               Edmonton     T5J 0H8  53.5428 -113.4974   \n",
       "3                Calgary     T2N 4R3  51.0621 -114.1159   \n",
       "4              Athabasca     T9S 1M8  54.7169 -113.2854   \n",
       "..                   ...         ...      ...       ...   \n",
       "94            Lethbridge     T1K 3M4  49.6511 -112.8351   \n",
       "95            Wetaskiwin     T9A 3G1  52.9668 -113.3687   \n",
       "96            Lethbridge     T1H 6Z4  49.7000 -112.8186   \n",
       "97  Rocky Mountain House     T4T 1P4  52.3668 -114.9188   \n",
       "98                Ponoka     T4J 1P6  52.6768 -113.5815   \n",
       "\n",
       "                   geometry  \n",
       "0   POINT (52.467 -113.735)  \n",
       "1   POINT (50.987 -113.963)  \n",
       "2   POINT (53.543 -113.497)  \n",
       "3   POINT (51.062 -114.116)  \n",
       "4   POINT (54.717 -113.285)  \n",
       "..                      ...  \n",
       "94  POINT (49.651 -112.835)  \n",
       "95  POINT (52.967 -113.369)  \n",
       "96  POINT (49.700 -112.819)  \n",
       "97  POINT (52.367 -114.919)  \n",
       "98  POINT (52.677 -113.582)  \n",
       "\n",
       "[97 rows x 7 columns]"
      ]
     },
     "execution_count": 3,
     "metadata": {},
     "output_type": "execute_result"
    }
   ],
   "source": [
    "lats = []\n",
    "lons = []\n",
    "for i in data['Postal Code']:\n",
    "    location = nomi.query_postal_code(i)\n",
    "    lats.append(location['latitude'])\n",
    "    lons.append(location['longitude'])\n",
    "data['lat'] = lats\n",
    "data['lon'] = lons\n",
    "data['geometry'] = geopandas.points_from_xy(data['lat'], data['lon'])\n",
    "data"
   ]
  },
  {
   "cell_type": "code",
   "execution_count": 4,
   "id": "867fb1f2-b858-474a-a3c6-169fe80e74f4",
   "metadata": {},
   "outputs": [
    {
     "data": {
      "application/vnd.plotly.v1+json": {
       "config": {
        "plotlyServerURL": "https://plot.ly"
       },
       "data": [
        {
         "lat": [
          52.4668,
          50.987,
          53.5428,
          51.0621,
          54.7169,
          54.7169,
          51.1762,
          53.0168,
          53.2668,
          52.3668,
          51.0272,
          52.839,
          52.4668,
          51.0412,
          51.0708,
          51.0876,
          50.9894,
          51.0876,
          52.0269,
          51.0708,
          53.5428,
          49.6581,
          52.2316,
          52.1431,
          53.7353,
          53.522,
          51.0876,
          52.839,
          51.0691,
          53.5428,
          51.0708,
          53.5334,
          50.5834,
          56.664,
          57.5403,
          50.9894,
          51.1047,
          50.9093,
          55.1808,
          55.1808,
          55.1808,
          53.5834,
          50.5834,
          53.6334,
          55.6993,
          56.2501,
          49.7,
          49.787,
          55.6993,
          53.5128,
          54.766,
          53.3669,
          49.6511,
          49.6581,
          50.6314,
          54.1501,
          53.5428,
          50.0816,
          50.0816,
          50.0816,
          51.1047,
          50.9899,
          53.5705,
          53.5428,
          54.1501,
          55.6993,
          54.766,
          54.2668,
          56.2501,
          55.1808,
          53.5181,
          49.7,
          53.5334,
          55.1303,
          57.5403,
          55.1808,
          54.1334,
          54.766,
          50.9944,
          49.835,
          52.2316,
          52.2316,
          52.2316,
          52.2316,
          51.133,
          51.9552,
          53.2668,
          50.9819,
          50.6314,
          53.8001,
          53.521,
          51.0621,
          49.6511,
          52.9668,
          49.7,
          52.3668,
          52.6768
         ],
         "lon": [
          -113.7353,
          -113.9634,
          -113.4974,
          -114.1159,
          -113.2854,
          -113.2854,
          -115.5698,
          -112.8353,
          -113.552,
          -114.9188,
          -114.0349,
          -110.8572,
          -113.7353,
          -114.0762,
          -113.6931,
          -114.0214,
          -114.052,
          -115.3461,
          -113.9507,
          -113.6931,
          -113.4974,
          -112.7484,
          -113.8358,
          -111.6941,
          -113.3369,
          -113.459,
          -114.0214,
          -110.8572,
          -114.4727,
          -113.4974,
          -113.6931,
          -113.9187,
          -113.8687,
          -111.1357,
          -116.9153,
          -114.052,
          -114.1148,
          -114.1028,
          -118.9103,
          -118.9103,
          -118.9103,
          -116.4356,
          -111.8851,
          -113.6353,
          -114.4529,
          -117.286,
          -112.8186,
          -112.146,
          -114.4529,
          -113.4194,
          -111.7174,
          -110.8517,
          -112.8351,
          -112.7484,
          -114.4089,
          -115.6855,
          -113.4974,
          -110.5788,
          -110.5788,
          -110.5788,
          -114.1148,
          -114.1574,
          -113.5051,
          -113.4974,
          -115.6855,
          -114.4529,
          -111.7174,
          -110.7351,
          -117.286,
          -118.9103,
          -113.5797,
          -112.8186,
          -114.0021,
          -118.7946,
          -116.9153,
          -118.9103,
          -114.4021,
          -111.7174,
          -111.4632,
          -110.5203,
          -113.8358,
          -113.8358,
          -113.8358,
          -113.8358,
          -113.856,
          -114.8691,
          -113.552,
          -114.1004,
          -114.4089,
          -113.652,
          -113.5324,
          -114.1159,
          -112.8351,
          -113.3687,
          -112.8186,
          -114.9188,
          -113.5815
         ],
         "text": [
          "Alberta Conference SDA Church",
          "Alberta Health Services",
          "Alberta Innovates",
          "Alberta University of the Arts",
          "Aspen View School Division",
          "Athabasca University",
          "Banff Centre for Arts and Creativity",
          "Battle River School Division",
          "Black Gold Regional Division No.18",
          "Blue Mountain Power Co-op",
          "Bow Valley College",
          "Buffalo Trail Public Schools",
          "Burman University ",
          "Calgary Board of Education",
          "Calgary Catholic School District",
          "Calgary Classical Academy",
          "Calgary Girls' School",
          "Canadian Rockies School District No.12",
          "Chinook's Edge School Division No.73",
          "City of Calgary",
          "City of Edmonton",
          "City of Lethbridge",
          "City of Red Deer",
          "Clearview Public Schools",
          "Concordia University of Edmonton",
          "Conseil scolaire Centre-Nord",
          "Conseil scolaire FrancoSud",
          "East Central Alberta Catholic Schools",
          "Edge School for Athletes",
          "Edmonton Public Library",
          "ENFOCOM International Corporation",
          "Evergreen Catholic Regional Division No.2",
          "Foothills School Division",
          "Fort McMurray Public School District",
          "Fort Vermilion School District No.52",
          "Foundations for the Future Charter Academy",
          "Genome Alberta",
          "Glenmore Christian Academy",
          "Grande Prairie & District Catholic Schools",
          "Grande Prairie Public Library",
          "Grande Prairie Public School District No.2357",
          "Grande Yellowhead Public School Division",
          "Grasslands Regional School Division No.6",
          "Greater St. Albert Roman Catholic Separate School District No. 734",
          "High Prairie School Division No.48",
          "Holy Family Catholic Regional Division No.37",
          "Holy Spirit Roman Catholic Separate School Division",
          "Horizon School Division No.67",
          "Kee Tas Kee Now Tribal Council Education Authority",
          "King's University, The",
          "Lac La Biche County",
          "Lakeland College",
          "Lethbridge College",
          "Lethbridge School District No.51",
          "Livingstone Range School Division",
          "Living Waters Catholic Regional Division No.42",
          "MacEwan University",
          "Medicine Hat Catholic School Board",
          "Medicine Hat College",
          "Medicine Hat School District No.76",
          "MindFuel",
          "Mount Royal University",
          "NAIT",
          "NorQuest College",
          "Northern Gateway Public Schools",
          "Northern Lakes College",
          "Northern Lights Library System",
          "Northern Lights School Division No.69",
          "Northland School Division No.61",
          "Northwestern Polytechnic",
          "OpenBSD Foundation",
          "Palliser Regional Schools No.26",
          "Parkland School Division No.70",
          "Peace Library System",
          "Peace River School Division No.10",
          "Peace Wapiti School Division No.76",
          "Pembina Hills Public Schools",
          "Portage College",
          "Prairie Land School Division",
          "Prairie Rose School Division No.8",
          "Red Deer Catholic Division No.39",
          "Red Deer Polytechnic",
          "Red Deer Public Library",
          "Red Deer Public Schools",
          "SAIT Polytechnic",
          "St. Albert Public Schools",
          "St. Thomas Aquinas Roman Catholic Division No.38",
          "STEM Innovation Academy",
          "Stoney Education Authority",
          "Sturgeon Public School Division No.24",
          "University of Alberta",
          "University of Calgary",
          "University of Lethbridge",
          "Wetaskiwin Regional Public Schools",
          "Whipcord Ltd",
          "Wild Rose School Division No.66",
          "Wolf Creek Regional Division No.32"
         ],
         "type": "scattergeo"
        }
       ],
       "layout": {
        "geo": {
         "countrycolor": "rgb(255, 255, 255)",
         "lakecolor": "rgb(255, 255, 255)",
         "landcolor": "rgb(255, 255, 255)",
         "lataxis": {
          "dtick": 5,
          "gridwidth": 0.5,
          "range": [
           48,
           61
          ],
          "showgrid": true
         },
         "lonaxis": {
          "dtick": 5,
          "gridwidth": 0.5,
          "range": [
           -120,
           -110
          ],
          "showgrid": true
         },
         "projection": {
          "rotation": {
           "lon": -100
          },
          "type": "conic conformal"
         },
         "resolution": 50,
         "scope": "north america",
         "showcountries": true,
         "showlakes": false,
         "showland": true,
         "showsubunits": true,
         "subunitcolor": "rgb(0, 0, 0)"
        },
        "height": 600,
        "margin": {
         "b": 0,
         "l": 0,
         "r": 0,
         "t": 0
        },
        "template": {
         "data": {
          "bar": [
           {
            "error_x": {
             "color": "#2a3f5f"
            },
            "error_y": {
             "color": "#2a3f5f"
            },
            "marker": {
             "line": {
              "color": "#E5ECF6",
              "width": 0.5
             },
             "pattern": {
              "fillmode": "overlay",
              "size": 10,
              "solidity": 0.2
             }
            },
            "type": "bar"
           }
          ],
          "barpolar": [
           {
            "marker": {
             "line": {
              "color": "#E5ECF6",
              "width": 0.5
             },
             "pattern": {
              "fillmode": "overlay",
              "size": 10,
              "solidity": 0.2
             }
            },
            "type": "barpolar"
           }
          ],
          "carpet": [
           {
            "aaxis": {
             "endlinecolor": "#2a3f5f",
             "gridcolor": "white",
             "linecolor": "white",
             "minorgridcolor": "white",
             "startlinecolor": "#2a3f5f"
            },
            "baxis": {
             "endlinecolor": "#2a3f5f",
             "gridcolor": "white",
             "linecolor": "white",
             "minorgridcolor": "white",
             "startlinecolor": "#2a3f5f"
            },
            "type": "carpet"
           }
          ],
          "choropleth": [
           {
            "colorbar": {
             "outlinewidth": 0,
             "ticks": ""
            },
            "type": "choropleth"
           }
          ],
          "contour": [
           {
            "colorbar": {
             "outlinewidth": 0,
             "ticks": ""
            },
            "colorscale": [
             [
              0,
              "#0d0887"
             ],
             [
              0.1111111111111111,
              "#46039f"
             ],
             [
              0.2222222222222222,
              "#7201a8"
             ],
             [
              0.3333333333333333,
              "#9c179e"
             ],
             [
              0.4444444444444444,
              "#bd3786"
             ],
             [
              0.5555555555555556,
              "#d8576b"
             ],
             [
              0.6666666666666666,
              "#ed7953"
             ],
             [
              0.7777777777777778,
              "#fb9f3a"
             ],
             [
              0.8888888888888888,
              "#fdca26"
             ],
             [
              1,
              "#f0f921"
             ]
            ],
            "type": "contour"
           }
          ],
          "contourcarpet": [
           {
            "colorbar": {
             "outlinewidth": 0,
             "ticks": ""
            },
            "type": "contourcarpet"
           }
          ],
          "heatmap": [
           {
            "colorbar": {
             "outlinewidth": 0,
             "ticks": ""
            },
            "colorscale": [
             [
              0,
              "#0d0887"
             ],
             [
              0.1111111111111111,
              "#46039f"
             ],
             [
              0.2222222222222222,
              "#7201a8"
             ],
             [
              0.3333333333333333,
              "#9c179e"
             ],
             [
              0.4444444444444444,
              "#bd3786"
             ],
             [
              0.5555555555555556,
              "#d8576b"
             ],
             [
              0.6666666666666666,
              "#ed7953"
             ],
             [
              0.7777777777777778,
              "#fb9f3a"
             ],
             [
              0.8888888888888888,
              "#fdca26"
             ],
             [
              1,
              "#f0f921"
             ]
            ],
            "type": "heatmap"
           }
          ],
          "heatmapgl": [
           {
            "colorbar": {
             "outlinewidth": 0,
             "ticks": ""
            },
            "colorscale": [
             [
              0,
              "#0d0887"
             ],
             [
              0.1111111111111111,
              "#46039f"
             ],
             [
              0.2222222222222222,
              "#7201a8"
             ],
             [
              0.3333333333333333,
              "#9c179e"
             ],
             [
              0.4444444444444444,
              "#bd3786"
             ],
             [
              0.5555555555555556,
              "#d8576b"
             ],
             [
              0.6666666666666666,
              "#ed7953"
             ],
             [
              0.7777777777777778,
              "#fb9f3a"
             ],
             [
              0.8888888888888888,
              "#fdca26"
             ],
             [
              1,
              "#f0f921"
             ]
            ],
            "type": "heatmapgl"
           }
          ],
          "histogram": [
           {
            "marker": {
             "pattern": {
              "fillmode": "overlay",
              "size": 10,
              "solidity": 0.2
             }
            },
            "type": "histogram"
           }
          ],
          "histogram2d": [
           {
            "colorbar": {
             "outlinewidth": 0,
             "ticks": ""
            },
            "colorscale": [
             [
              0,
              "#0d0887"
             ],
             [
              0.1111111111111111,
              "#46039f"
             ],
             [
              0.2222222222222222,
              "#7201a8"
             ],
             [
              0.3333333333333333,
              "#9c179e"
             ],
             [
              0.4444444444444444,
              "#bd3786"
             ],
             [
              0.5555555555555556,
              "#d8576b"
             ],
             [
              0.6666666666666666,
              "#ed7953"
             ],
             [
              0.7777777777777778,
              "#fb9f3a"
             ],
             [
              0.8888888888888888,
              "#fdca26"
             ],
             [
              1,
              "#f0f921"
             ]
            ],
            "type": "histogram2d"
           }
          ],
          "histogram2dcontour": [
           {
            "colorbar": {
             "outlinewidth": 0,
             "ticks": ""
            },
            "colorscale": [
             [
              0,
              "#0d0887"
             ],
             [
              0.1111111111111111,
              "#46039f"
             ],
             [
              0.2222222222222222,
              "#7201a8"
             ],
             [
              0.3333333333333333,
              "#9c179e"
             ],
             [
              0.4444444444444444,
              "#bd3786"
             ],
             [
              0.5555555555555556,
              "#d8576b"
             ],
             [
              0.6666666666666666,
              "#ed7953"
             ],
             [
              0.7777777777777778,
              "#fb9f3a"
             ],
             [
              0.8888888888888888,
              "#fdca26"
             ],
             [
              1,
              "#f0f921"
             ]
            ],
            "type": "histogram2dcontour"
           }
          ],
          "mesh3d": [
           {
            "colorbar": {
             "outlinewidth": 0,
             "ticks": ""
            },
            "type": "mesh3d"
           }
          ],
          "parcoords": [
           {
            "line": {
             "colorbar": {
              "outlinewidth": 0,
              "ticks": ""
             }
            },
            "type": "parcoords"
           }
          ],
          "pie": [
           {
            "automargin": true,
            "type": "pie"
           }
          ],
          "scatter": [
           {
            "fillpattern": {
             "fillmode": "overlay",
             "size": 10,
             "solidity": 0.2
            },
            "type": "scatter"
           }
          ],
          "scatter3d": [
           {
            "line": {
             "colorbar": {
              "outlinewidth": 0,
              "ticks": ""
             }
            },
            "marker": {
             "colorbar": {
              "outlinewidth": 0,
              "ticks": ""
             }
            },
            "type": "scatter3d"
           }
          ],
          "scattercarpet": [
           {
            "marker": {
             "colorbar": {
              "outlinewidth": 0,
              "ticks": ""
             }
            },
            "type": "scattercarpet"
           }
          ],
          "scattergeo": [
           {
            "marker": {
             "colorbar": {
              "outlinewidth": 0,
              "ticks": ""
             }
            },
            "type": "scattergeo"
           }
          ],
          "scattergl": [
           {
            "marker": {
             "colorbar": {
              "outlinewidth": 0,
              "ticks": ""
             }
            },
            "type": "scattergl"
           }
          ],
          "scattermapbox": [
           {
            "marker": {
             "colorbar": {
              "outlinewidth": 0,
              "ticks": ""
             }
            },
            "type": "scattermapbox"
           }
          ],
          "scatterpolar": [
           {
            "marker": {
             "colorbar": {
              "outlinewidth": 0,
              "ticks": ""
             }
            },
            "type": "scatterpolar"
           }
          ],
          "scatterpolargl": [
           {
            "marker": {
             "colorbar": {
              "outlinewidth": 0,
              "ticks": ""
             }
            },
            "type": "scatterpolargl"
           }
          ],
          "scatterternary": [
           {
            "marker": {
             "colorbar": {
              "outlinewidth": 0,
              "ticks": ""
             }
            },
            "type": "scatterternary"
           }
          ],
          "surface": [
           {
            "colorbar": {
             "outlinewidth": 0,
             "ticks": ""
            },
            "colorscale": [
             [
              0,
              "#0d0887"
             ],
             [
              0.1111111111111111,
              "#46039f"
             ],
             [
              0.2222222222222222,
              "#7201a8"
             ],
             [
              0.3333333333333333,
              "#9c179e"
             ],
             [
              0.4444444444444444,
              "#bd3786"
             ],
             [
              0.5555555555555556,
              "#d8576b"
             ],
             [
              0.6666666666666666,
              "#ed7953"
             ],
             [
              0.7777777777777778,
              "#fb9f3a"
             ],
             [
              0.8888888888888888,
              "#fdca26"
             ],
             [
              1,
              "#f0f921"
             ]
            ],
            "type": "surface"
           }
          ],
          "table": [
           {
            "cells": {
             "fill": {
              "color": "#EBF0F8"
             },
             "line": {
              "color": "white"
             }
            },
            "header": {
             "fill": {
              "color": "#C8D4E3"
             },
             "line": {
              "color": "white"
             }
            },
            "type": "table"
           }
          ]
         },
         "layout": {
          "annotationdefaults": {
           "arrowcolor": "#2a3f5f",
           "arrowhead": 0,
           "arrowwidth": 1
          },
          "autotypenumbers": "strict",
          "coloraxis": {
           "colorbar": {
            "outlinewidth": 0,
            "ticks": ""
           }
          },
          "colorscale": {
           "diverging": [
            [
             0,
             "#8e0152"
            ],
            [
             0.1,
             "#c51b7d"
            ],
            [
             0.2,
             "#de77ae"
            ],
            [
             0.3,
             "#f1b6da"
            ],
            [
             0.4,
             "#fde0ef"
            ],
            [
             0.5,
             "#f7f7f7"
            ],
            [
             0.6,
             "#e6f5d0"
            ],
            [
             0.7,
             "#b8e186"
            ],
            [
             0.8,
             "#7fbc41"
            ],
            [
             0.9,
             "#4d9221"
            ],
            [
             1,
             "#276419"
            ]
           ],
           "sequential": [
            [
             0,
             "#0d0887"
            ],
            [
             0.1111111111111111,
             "#46039f"
            ],
            [
             0.2222222222222222,
             "#7201a8"
            ],
            [
             0.3333333333333333,
             "#9c179e"
            ],
            [
             0.4444444444444444,
             "#bd3786"
            ],
            [
             0.5555555555555556,
             "#d8576b"
            ],
            [
             0.6666666666666666,
             "#ed7953"
            ],
            [
             0.7777777777777778,
             "#fb9f3a"
            ],
            [
             0.8888888888888888,
             "#fdca26"
            ],
            [
             1,
             "#f0f921"
            ]
           ],
           "sequentialminus": [
            [
             0,
             "#0d0887"
            ],
            [
             0.1111111111111111,
             "#46039f"
            ],
            [
             0.2222222222222222,
             "#7201a8"
            ],
            [
             0.3333333333333333,
             "#9c179e"
            ],
            [
             0.4444444444444444,
             "#bd3786"
            ],
            [
             0.5555555555555556,
             "#d8576b"
            ],
            [
             0.6666666666666666,
             "#ed7953"
            ],
            [
             0.7777777777777778,
             "#fb9f3a"
            ],
            [
             0.8888888888888888,
             "#fdca26"
            ],
            [
             1,
             "#f0f921"
            ]
           ]
          },
          "colorway": [
           "#636efa",
           "#EF553B",
           "#00cc96",
           "#ab63fa",
           "#FFA15A",
           "#19d3f3",
           "#FF6692",
           "#B6E880",
           "#FF97FF",
           "#FECB52"
          ],
          "font": {
           "color": "#2a3f5f"
          },
          "geo": {
           "bgcolor": "white",
           "lakecolor": "white",
           "landcolor": "#E5ECF6",
           "showlakes": true,
           "showland": true,
           "subunitcolor": "white"
          },
          "hoverlabel": {
           "align": "left"
          },
          "hovermode": "closest",
          "mapbox": {
           "style": "light"
          },
          "paper_bgcolor": "white",
          "plot_bgcolor": "#E5ECF6",
          "polar": {
           "angularaxis": {
            "gridcolor": "white",
            "linecolor": "white",
            "ticks": ""
           },
           "bgcolor": "#E5ECF6",
           "radialaxis": {
            "gridcolor": "white",
            "linecolor": "white",
            "ticks": ""
           }
          },
          "scene": {
           "xaxis": {
            "backgroundcolor": "#E5ECF6",
            "gridcolor": "white",
            "gridwidth": 2,
            "linecolor": "white",
            "showbackground": true,
            "ticks": "",
            "zerolinecolor": "white"
           },
           "yaxis": {
            "backgroundcolor": "#E5ECF6",
            "gridcolor": "white",
            "gridwidth": 2,
            "linecolor": "white",
            "showbackground": true,
            "ticks": "",
            "zerolinecolor": "white"
           },
           "zaxis": {
            "backgroundcolor": "#E5ECF6",
            "gridcolor": "white",
            "gridwidth": 2,
            "linecolor": "white",
            "showbackground": true,
            "ticks": "",
            "zerolinecolor": "white"
           }
          },
          "shapedefaults": {
           "line": {
            "color": "#2a3f5f"
           }
          },
          "ternary": {
           "aaxis": {
            "gridcolor": "white",
            "linecolor": "white",
            "ticks": ""
           },
           "baxis": {
            "gridcolor": "white",
            "linecolor": "white",
            "ticks": ""
           },
           "bgcolor": "#E5ECF6",
           "caxis": {
            "gridcolor": "white",
            "linecolor": "white",
            "ticks": ""
           }
          },
          "title": {
           "x": 0.05
          },
          "xaxis": {
           "automargin": true,
           "gridcolor": "white",
           "linecolor": "white",
           "ticks": "",
           "title": {
            "standoff": 15
           },
           "zerolinecolor": "white",
           "zerolinewidth": 2
          },
          "yaxis": {
           "automargin": true,
           "gridcolor": "white",
           "linecolor": "white",
           "ticks": "",
           "title": {
            "standoff": 15
           },
           "zerolinecolor": "white",
           "zerolinewidth": 2
          }
         }
        },
        "title": {
         "text": "Cybera Member locations"
        },
        "width": 600
       }
      }
     },
     "metadata": {},
     "output_type": "display_data"
    }
   ],
   "source": [
    "fig = go.Figure(data=go.Scattergeo(\n",
    "    lat = data['lat'],\n",
    "    lon = data['lon'],\n",
    "    text = data['Member']\n",
    ")\n",
    "               )\n",
    "\n",
    "fig.update_layout(\n",
    "    geo = dict(\n",
    "        scope = 'north america',\n",
    "        showland = True,\n",
    "        #landcolor = \"rgb(212, 212, 212)\",\n",
    "        landcolor = \"rgb(255, 255, 255)\",\n",
    "        subunitcolor = \"rgb(0, 0, 0)\",\n",
    "        countrycolor = \"rgb(255, 255, 255)\",\n",
    "        showlakes = False,\n",
    "        lakecolor = \"rgb(255, 255, 255)\",\n",
    "        showsubunits = True,\n",
    "        showcountries = True,\n",
    "        resolution = 50,\n",
    "        projection = dict(\n",
    "            type = 'conic conformal',\n",
    "            rotation_lon = -100\n",
    "        ),\n",
    "        lonaxis = dict(\n",
    "            showgrid = True,\n",
    "            gridwidth = 0.5,\n",
    "            range= [ -140.0, -55.0 ],\n",
    "            dtick = 5\n",
    "        ),\n",
    "        lataxis = dict (\n",
    "            showgrid = True,\n",
    "            gridwidth = 0.5,\n",
    "            range= [ 20.0, 60.0 ],\n",
    "            dtick = 5\n",
    "        )\n",
    "    ),\n",
    "    title='Cybera Member locations',\n",
    "    height=600,\n",
    "    width=600,\n",
    "    margin={\"r\":0,\"t\":0,\"l\":0,\"b\":0}\n",
    ")\n",
    "fig.update_geos(lataxis_range=[48,61],\n",
    "               lonaxis_range=[-120,-110])\n",
    "fig.show()\n",
    "#fig.write_html('membermap.html')"
   ]
  },
  {
   "cell_type": "code",
   "execution_count": 6,
   "id": "28990f21",
   "metadata": {},
   "outputs": [],
   "source": [
    "#!pip install kaleido\n",
    "fig.write_image('membermap.svg')"
   ]
  },
  {
   "attachments": {},
   "cell_type": "markdown",
   "id": "b9d60158",
   "metadata": {},
   "source": [
    "## Finding Scale distances on a 4x8 sheet of plywood"
   ]
  },
  {
   "cell_type": "code",
   "execution_count": null,
   "id": "24a55e79",
   "metadata": {},
   "outputs": [
    {
     "data": {
      "text/html": [
       "<div>\n",
       "<style scoped>\n",
       "    .dataframe tbody tr th:only-of-type {\n",
       "        vertical-align: middle;\n",
       "    }\n",
       "\n",
       "    .dataframe tbody tr th {\n",
       "        vertical-align: top;\n",
       "    }\n",
       "\n",
       "    .dataframe thead th {\n",
       "        text-align: right;\n",
       "    }\n",
       "</style>\n",
       "<table border=\"1\" class=\"dataframe\">\n",
       "  <thead>\n",
       "    <tr style=\"text-align: right;\">\n",
       "      <th></th>\n",
       "      <th>Member</th>\n",
       "      <th>Address</th>\n",
       "      <th>City</th>\n",
       "      <th>Postal Code</th>\n",
       "      <th>lat</th>\n",
       "      <th>lon</th>\n",
       "      <th>geometry</th>\n",
       "      <th>x</th>\n",
       "      <th>y</th>\n",
       "      <th>x inches</th>\n",
       "      <th>y inches</th>\n",
       "    </tr>\n",
       "  </thead>\n",
       "  <tbody>\n",
       "    <tr>\n",
       "      <th>0</th>\n",
       "      <td>Alberta Conference SDA Church</td>\n",
       "      <td>5816 Hwy 2A</td>\n",
       "      <td>Lacombe</td>\n",
       "      <td>T4L 2G5</td>\n",
       "      <td>52.4668</td>\n",
       "      <td>-113.7353</td>\n",
       "      <td>POINT (52.467 -113.735)</td>\n",
       "      <td>0.616806</td>\n",
       "      <td>0.356906</td>\n",
       "      <td>28.373063</td>\n",
       "      <td>16.417660</td>\n",
       "    </tr>\n",
       "    <tr>\n",
       "      <th>1</th>\n",
       "      <td>Alberta Health Services</td>\n",
       "      <td>48 Quarry Park Blvd. SE</td>\n",
       "      <td>Calgary</td>\n",
       "      <td>T2C 5P2</td>\n",
       "      <td>50.9870</td>\n",
       "      <td>-113.9634</td>\n",
       "      <td>POINT (50.987 -113.963)</td>\n",
       "      <td>0.589619</td>\n",
       "      <td>0.169333</td>\n",
       "      <td>27.122455</td>\n",
       "      <td>7.789307</td>\n",
       "    </tr>\n",
       "    <tr>\n",
       "      <th>2</th>\n",
       "      <td>Alberta Innovates</td>\n",
       "      <td>1500, 10104 - 103 Avenue</td>\n",
       "      <td>Edmonton</td>\n",
       "      <td>T5J 0H8</td>\n",
       "      <td>53.5428</td>\n",
       "      <td>-113.4974</td>\n",
       "      <td>POINT (53.543 -113.497)</td>\n",
       "      <td>0.645161</td>\n",
       "      <td>0.493295</td>\n",
       "      <td>29.677402</td>\n",
       "      <td>22.691553</td>\n",
       "    </tr>\n",
       "    <tr>\n",
       "      <th>3</th>\n",
       "      <td>Alberta University of the Arts</td>\n",
       "      <td>1407 - 14th Avenue NW</td>\n",
       "      <td>Calgary</td>\n",
       "      <td>T2N 4R3</td>\n",
       "      <td>51.0621</td>\n",
       "      <td>-114.1159</td>\n",
       "      <td>POINT (51.062 -114.116)</td>\n",
       "      <td>0.571442</td>\n",
       "      <td>0.178852</td>\n",
       "      <td>26.286341</td>\n",
       "      <td>8.227197</td>\n",
       "    </tr>\n",
       "    <tr>\n",
       "      <th>4</th>\n",
       "      <td>Aspen View School Division</td>\n",
       "      <td>3600 - 48 Avenue</td>\n",
       "      <td>Athabasca</td>\n",
       "      <td>T9S 1M8</td>\n",
       "      <td>54.7169</td>\n",
       "      <td>-113.2854</td>\n",
       "      <td>POINT (54.717 -113.285)</td>\n",
       "      <td>0.670429</td>\n",
       "      <td>0.642118</td>\n",
       "      <td>30.839738</td>\n",
       "      <td>29.537444</td>\n",
       "    </tr>\n",
       "    <tr>\n",
       "      <th>...</th>\n",
       "      <td>...</td>\n",
       "      <td>...</td>\n",
       "      <td>...</td>\n",
       "      <td>...</td>\n",
       "      <td>...</td>\n",
       "      <td>...</td>\n",
       "      <td>...</td>\n",
       "      <td>...</td>\n",
       "      <td>...</td>\n",
       "      <td>...</td>\n",
       "      <td>...</td>\n",
       "    </tr>\n",
       "    <tr>\n",
       "      <th>94</th>\n",
       "      <td>University of Lethbridge</td>\n",
       "      <td>4401 University Drive</td>\n",
       "      <td>Lethbridge</td>\n",
       "      <td>T1K 3M4</td>\n",
       "      <td>49.6511</td>\n",
       "      <td>-112.8351</td>\n",
       "      <td>POINT (49.651 -112.835)</td>\n",
       "      <td>0.724100</td>\n",
       "      <td>0.000000</td>\n",
       "      <td>33.308605</td>\n",
       "      <td>0.000000</td>\n",
       "    </tr>\n",
       "    <tr>\n",
       "      <th>95</th>\n",
       "      <td>Wetaskiwin Regional Public Schools</td>\n",
       "      <td>5704 - 51 Street</td>\n",
       "      <td>Wetaskiwin</td>\n",
       "      <td>T9A 3G1</td>\n",
       "      <td>52.9668</td>\n",
       "      <td>-113.3687</td>\n",
       "      <td>POINT (52.967 -113.369)</td>\n",
       "      <td>0.660501</td>\n",
       "      <td>0.420283</td>\n",
       "      <td>30.383027</td>\n",
       "      <td>19.333038</td>\n",
       "    </tr>\n",
       "    <tr>\n",
       "      <th>96</th>\n",
       "      <td>Whipcord Ltd</td>\n",
       "      <td>3528 30 Street North</td>\n",
       "      <td>Lethbridge</td>\n",
       "      <td>T1H 6Z4</td>\n",
       "      <td>49.7000</td>\n",
       "      <td>-112.8186</td>\n",
       "      <td>POINT (49.700 -112.819)</td>\n",
       "      <td>0.726067</td>\n",
       "      <td>0.006198</td>\n",
       "      <td>33.399070</td>\n",
       "      <td>0.285124</td>\n",
       "    </tr>\n",
       "    <tr>\n",
       "      <th>97</th>\n",
       "      <td>Wild Rose School Division No.66</td>\n",
       "      <td>4912 - 43 Street</td>\n",
       "      <td>Rocky Mountain House</td>\n",
       "      <td>T4T 1P4</td>\n",
       "      <td>52.3668</td>\n",
       "      <td>-114.9188</td>\n",
       "      <td>POINT (52.367 -114.919)</td>\n",
       "      <td>0.475745</td>\n",
       "      <td>0.344230</td>\n",
       "      <td>21.884267</td>\n",
       "      <td>15.834584</td>\n",
       "    </tr>\n",
       "    <tr>\n",
       "      <th>98</th>\n",
       "      <td>Wolf Creek Regional Division No.32</td>\n",
       "      <td>6000 Highway 2A</td>\n",
       "      <td>Ponoka</td>\n",
       "      <td>T4J 1P6</td>\n",
       "      <td>52.6768</td>\n",
       "      <td>-113.5815</td>\n",
       "      <td>POINT (52.677 -113.582)</td>\n",
       "      <td>0.635137</td>\n",
       "      <td>0.383524</td>\n",
       "      <td>29.216305</td>\n",
       "      <td>17.642118</td>\n",
       "    </tr>\n",
       "  </tbody>\n",
       "</table>\n",
       "<p>97 rows × 11 columns</p>\n",
       "</div>"
      ],
      "text/plain": [
       "                                Member                   Address  \\\n",
       "0        Alberta Conference SDA Church               5816 Hwy 2A   \n",
       "1              Alberta Health Services   48 Quarry Park Blvd. SE   \n",
       "2                    Alberta Innovates  1500, 10104 - 103 Avenue   \n",
       "3       Alberta University of the Arts     1407 - 14th Avenue NW   \n",
       "4           Aspen View School Division          3600 - 48 Avenue   \n",
       "..                                 ...                       ...   \n",
       "94            University of Lethbridge     4401 University Drive   \n",
       "95  Wetaskiwin Regional Public Schools          5704 - 51 Street   \n",
       "96                        Whipcord Ltd      3528 30 Street North   \n",
       "97     Wild Rose School Division No.66          4912 - 43 Street   \n",
       "98  Wolf Creek Regional Division No.32           6000 Highway 2A   \n",
       "\n",
       "                    City Postal Code      lat       lon  \\\n",
       "0                Lacombe     T4L 2G5  52.4668 -113.7353   \n",
       "1                Calgary     T2C 5P2  50.9870 -113.9634   \n",
       "2               Edmonton     T5J 0H8  53.5428 -113.4974   \n",
       "3                Calgary     T2N 4R3  51.0621 -114.1159   \n",
       "4              Athabasca     T9S 1M8  54.7169 -113.2854   \n",
       "..                   ...         ...      ...       ...   \n",
       "94            Lethbridge     T1K 3M4  49.6511 -112.8351   \n",
       "95            Wetaskiwin     T9A 3G1  52.9668 -113.3687   \n",
       "96            Lethbridge     T1H 6Z4  49.7000 -112.8186   \n",
       "97  Rocky Mountain House     T4T 1P4  52.3668 -114.9188   \n",
       "98                Ponoka     T4J 1P6  52.6768 -113.5815   \n",
       "\n",
       "                   geometry         x         y   x inches   y inches  \n",
       "0   POINT (52.467 -113.735)  0.616806  0.356906  28.373063  16.417660  \n",
       "1   POINT (50.987 -113.963)  0.589619  0.169333  27.122455   7.789307  \n",
       "2   POINT (53.543 -113.497)  0.645161  0.493295  29.677402  22.691553  \n",
       "3   POINT (51.062 -114.116)  0.571442  0.178852  26.286341   8.227197  \n",
       "4   POINT (54.717 -113.285)  0.670429  0.642118  30.839738  29.537444  \n",
       "..                      ...       ...       ...        ...        ...  \n",
       "94  POINT (49.651 -112.835)  0.724100  0.000000  33.308605   0.000000  \n",
       "95  POINT (52.967 -113.369)  0.660501  0.420283  30.383027  19.333038  \n",
       "96  POINT (49.700 -112.819)  0.726067  0.006198  33.399070   0.285124  \n",
       "97  POINT (52.367 -114.919)  0.475745  0.344230  21.884267  15.834584  \n",
       "98  POINT (52.677 -113.582)  0.635137  0.383524  29.216305  17.642118  \n",
       "\n",
       "[97 rows x 11 columns]"
      ]
     },
     "execution_count": 10,
     "metadata": {},
     "output_type": "execute_result"
    }
   ],
   "source": [
    "'''\n",
    "try:\n",
    "    import haversine as hs\n",
    "except:\n",
    "    !pip install --user haversine\n",
    "    import haversine as hs\n",
    "'''\n",
    "x_range = [data['lon'].max(), data['lon'].min()]\n",
    "y_range = [data['lat'].max(), data['lat'].min()]\n",
    "data['x'] = (data['lon'] - x_range[1]) / (x_range[0] - x_range[1])\n",
    "data['y'] = (data['lat'] - y_range[1]) / (y_range[0] - y_range[1])\n",
    "data['x inches'] = data['x'] * 46\n",
    "data['y inches'] = data['y'] * 46\n",
    "data"
   ]
  },
  {
   "cell_type": "code",
   "execution_count": null,
   "id": "ef57c5cb",
   "metadata": {},
   "outputs": [
    {
     "data": {
      "application/vnd.plotly.v1+json": {
       "config": {
        "plotlyServerURL": "https://plot.ly"
       },
       "data": [
        {
         "customdata": [
          [
           "5816 Hwy 2A",
           "Lacombe",
           "T4L 2G5"
          ],
          [
           "48 Quarry Park Blvd. SE",
           "Calgary",
           "T2C 5P2"
          ],
          [
           "1500, 10104 - 103 Avenue",
           "Edmonton",
           "T5J 0H8"
          ],
          [
           "1407 - 14th Avenue NW",
           "Calgary",
           "T2N 4R3"
          ],
          [
           "3600 - 48 Avenue",
           "Athabasca",
           "T9S 1M8"
          ],
          [
           "1 University Drive",
           "Athabasca",
           "T9S 3A3"
          ],
          [
           "PO Box 1020",
           "Banff",
           "T1L 1H5"
          ],
          [
           "5402 - 48A Avenue",
           "Camrose",
           "T4V 0L3"
          ],
          [
           "3rd floor, 1101 - 5 Street",
           "Nisku",
           "T9E 7N3"
          ],
          [
           "PO Box 1538",
           "Rocky Mountain House",
           "T4T 1B2"
          ],
          [
           "345 - 6 Avenue SE",
           "Calgary",
           "T2G 4V1"
          ],
          [
           "1041 - 10A Street",
           "Wainwright",
           "T9W 2R4"
          ],
          [
           "6730 University Drive",
           "Lacombe",
           "T4L 2E5"
          ],
          [
           "1221 - 8 Street SW",
           "Calgary",
           "T2R 0L4"
          ],
          [
           "1000 - 5 Avenue SW",
           "Calgary",
           "T2P 4T9"
          ],
          [
           "231 - 6 Street NE",
           "Calgary",
           "T2E 3Y1"
          ],
          [
           "Unit C, 7239 Flint Road SE",
           "Calgary",
           "T2H 1G2"
          ],
          [
           "618 - 7 Avenue",
           "Canmore",
           "T1W 2H5"
          ],
          [
           "4904 - 50 Street",
           "Innisfail",
           "T4G 1W4"
          ],
          [
           "Box 2100, Station M",
           "Calgary",
           "T2P 2M5"
          ],
          [
           "16th flr, Edmonton Tower, 10111-104 Street NW",
           "Edmonton",
           "T5J 0J4"
          ],
          [
           "910 - 4th Avenue South",
           "Lethbridge",
           "T1J 0P6"
          ],
          [
           "PO Box 5008",
           "Red Deer",
           "T4N 3T4"
          ],
          [
           "5031 - 50 Street",
           "Stettler",
           "T0C 2L0"
          ],
          [
           "7128 Ada Boulevard",
           "Edmonton",
           "T5B 4E4"
          ],
          [
           "322 - 8627 rue Marie-Anne-Gaboury",
           "Edmonton",
           "T6C 3N1"
          ],
          [
           "Suite 295, 6715 - 8 Street NE",
           "Calgary",
           "T2E 7H7"
          ],
          [
           "1018 - 1 Avenue",
           "Wainwright",
           "T9W 1G9"
          ],
          [
           "33055 Township Road 250",
           "Calgary",
           "T3Z 1L4"
          ],
          [
           "7 Sir Winston Churchill Square",
           "Edmonton",
           "T5J 2V4"
          ],
          [
           "144 - 4 Avenue SW, Suite 1600",
           "Calgary",
           "T2P 3N4"
          ],
          [
           "Suite 110, 381 Grove Drive West",
           "Spruce Grove",
           "T7X 2Y9"
          ],
          [
           "Suite 300, 29 - 4th Avenue SW",
           "High River",
           "T1V 1M7"
          ],
          [
           "231 Hardin Street",
           "Fort McMurray",
           "T9H 2G2"
          ],
          [
           "Bag 1, 5213 River Road",
           "Fort Vermilion",
           "T0H 1N0"
          ],
          [
           "110, 7000 Railway Street SE",
           "Calgary",
           "T2H 3A8"
          ],
          [
           "200, 3512 - 33 Street NW",
           "Calgary",
           "T2L 2A6"
          ],
          [
           "16520 - 24th Street SW",
           "Calgary",
           "T2Y 4W2"
          ],
          [
           "9902 - 101 Street",
           "Grande Prairie",
           "T8V 2P4"
          ],
          [
           "101, 9839  103 Avenue",
           "Grande Prairie",
           "T8V 6M7"
          ],
          [
           "10127 - 120 Avenue",
           "Grande Prairie",
           "T8V 8H8"
          ],
          [
           "3656 - 1st Avenue",
           "Edson",
           "T7E 1S8"
          ],
          [
           "745 - 2nd Ave. East",
           "Brooks",
           "T1R 1L2"
          ],
          [
           "6 St. Vital Avenue",
           "St. Albert",
           "T8N 1K2"
          ],
          [
           "PO Box 870",
           "High Prairie",
           "T0G 1E0"
          ],
          [
           "10307 - 99 Street",
           "Peace River",
           "T8S 1K1"
          ],
          [
           "620 - 12 Street B North",
           "Lethbridge",
           "T1H 2L7"
          ],
          [
           "6302 - 56 Street ",
           "Taber",
           "T1G 1Z0"
          ],
          [
           "Box 360",
           "Red Earth Creek",
           "T0G 1X0"
          ],
          [
           "9125 - 50 Street NW",
           "Edmonton",
           "T6B 2H3"
          ],
          [
           "PO Box 1679",
           "Lac La Biche",
           "T0A 2C0"
          ],
          [
           "5707 College Drive",
           "Vermilion",
           "T9X 1K5"
          ],
          [
           "3000 College Drive South",
           "Lethbridge",
           "T1K 1L6"
          ],
          [
           "433 - 15 Street South",
           "Lethbridge",
           "T1J 2Z4"
          ],
          [
           "PO Box 1810, 410 - 20 Street",
           "Fort Macleod",
           "T0L 0Z0"
          ],
          [
           "4204 Kepler Street, Box 1949",
           "Whitecourt",
           "T7S 1P6"
          ],
          [
           "Box 1796",
           "Edmonton",
           "T5J 2P2"
          ],
          [
           "1251 1st Avenue SW",
           "Medicine Hat",
           "T1A 8B4"
          ],
          [
           "299 College Drive SE",
           "Medicine Hat",
           "T1A 3Y6"
          ],
          [
           "601 - 1 Avenue SW",
           "Medicine Hat",
           "T1A 4Y7"
          ],
          [
           "Suite 260, 3512 - 33 Street NW",
           "Calgary",
           "T2L 2A6"
          ],
          [
           "4825 Richard Road SW",
           "Calgary",
           "T3E 6K6"
          ],
          [
           "11762 - 106 Street",
           "Edmonton",
           "T5G 2R1"
          ],
          [
           "10215 - 108 Street NW",
           "Edmonton",
           "T5J 1L6"
          ],
          [
           "Box 840, 4816 - 49 Avenue",
           "Whitecourt",
           "T7S 1N8"
          ],
          [
           "Bag 1",
           "Grouard",
           "T0G 1C0"
          ],
          [
           "5615 - 48 Street, Postal Bag 8",
           "Elk Point",
           "T0A 1A0"
          ],
          [
           "6005 - 50 Avenue",
           "Bonnyville",
           "T9N 2L4"
          ],
          [
           "Bag 1400, 9809 - 77 Avenue",
           "Peace River",
           "T8S 1V2"
          ],
          [
           "10726 - 106 Avenue",
           "Grande Prairie",
           "T8V 4C4"
          ],
          [
           "8101 - 160 Street",
           "Edmonton",
           "T5R 2G9"
          ],
          [
           "101, 3305 - 18 Avenue North",
           "Lethbridge",
           "T1H 5S1"
          ],
          [
           "4603 - 48 Street",
           "Stony Plain",
           "T7Z 2A8"
          ],
          [
           "8301 - 110 Street",
           "Grande Prairie",
           "T8W 6T2"
          ],
          [
           "4702 - 51 Street, P.O. Box 380",
           "Grimshaw",
           "T0H 1W0"
          ],
          [
           "8611a - 108 Street",
           "Grande Prairie",
           "T8V 4C5"
          ],
          [
           "5310 - 49 Street",
           "Barrhead",
           "T7N 1P3"
          ],
          [
           "9531 - 94 Avenue",
           "Lac La Biche",
           "T0A 2C0"
          ],
          [
           "Box 670",
           "Hanna",
           "T0J 1P0"
          ],
          [
           "912 - 2nd Avenue",
           "Dunmore",
           "T1B 0K3"
          ],
          [
           "5210 - 61 Street",
           "Red Deer",
           "T4N 6N8"
          ],
          [
           "100 College Boulevard",
           "Red Deer",
           "T4N 5H5"
          ],
          [
           "4818 - 49th Street",
           "Red Deer",
           "T4N 1T9"
          ],
          [
           "4747 - 53 Street",
           "Red Deer",
           "T4N 2E6"
          ],
          [
           "1301 - 16 Avenue NW",
           "Calgary",
           "T2M 0L4"
          ],
          [
           "PO Box 4000",
           "Three Hills",
           "T0M 2N0"
          ],
          [
           "4906 - 50 Avenue",
           "Leduc",
           "T9E 6W9"
          ],
          [
           "1204 - 96 Avenue SW",
           "Calgary",
           "T2V 0Y1"
          ],
          [
           "Box 238, Morley Road",
           "Morley",
           "T0L 1N0"
          ],
          [
           "9820 - 104th Street",
           "Morinville",
           "T8R 1L8"
          ],
          [
           "2--51 South Academic Building",
           "Edmonton",
           "T6G 2G7"
          ],
          [
           "2500 University Drive NW",
           "Calgary",
           "T2N 1N4"
          ],
          [
           "4401 University Drive",
           "Lethbridge",
           "T1K 3M4"
          ],
          [
           "5704 - 51 Street",
           "Wetaskiwin",
           "T9A 3G1"
          ],
          [
           "3528 30 Street North",
           "Lethbridge",
           "T1H 6Z4"
          ],
          [
           "4912 - 43 Street",
           "Rocky Mountain House",
           "T4T 1P4"
          ],
          [
           "6000 Highway 2A",
           "Ponoka",
           "T4J 1P6"
          ]
         ],
         "hovertemplate": "<b>%{hovertext}</b><br><br>x inches=%{x}<br>y inches=%{y}<br>Address=%{customdata[0]}<br>City=%{customdata[1]}<br>Postal Code=%{customdata[2]}<extra></extra>",
         "hovertext": [
          "Alberta Conference SDA Church",
          "Alberta Health Services",
          "Alberta Innovates",
          "Alberta University of the Arts",
          "Aspen View School Division",
          "Athabasca University",
          "Banff Centre for Arts and Creativity",
          "Battle River School Division",
          "Black Gold Regional Division No.18",
          "Blue Mountain Power Co-op",
          "Bow Valley College",
          "Buffalo Trail Public Schools",
          "Burman University ",
          "Calgary Board of Education",
          "Calgary Catholic School District",
          "Calgary Classical Academy",
          "Calgary Girls' School",
          "Canadian Rockies School District No.12",
          "Chinook's Edge School Division No.73",
          "City of Calgary",
          "City of Edmonton",
          "City of Lethbridge",
          "City of Red Deer",
          "Clearview Public Schools",
          "Concordia University of Edmonton",
          "Conseil scolaire Centre-Nord",
          "Conseil scolaire FrancoSud",
          "East Central Alberta Catholic Schools",
          "Edge School for Athletes",
          "Edmonton Public Library",
          "ENFOCOM International Corporation",
          "Evergreen Catholic Regional Division No.2",
          "Foothills School Division",
          "Fort McMurray Public School District",
          "Fort Vermilion School District No.52",
          "Foundations for the Future Charter Academy",
          "Genome Alberta",
          "Glenmore Christian Academy",
          "Grande Prairie & District Catholic Schools",
          "Grande Prairie Public Library",
          "Grande Prairie Public School District No.2357",
          "Grande Yellowhead Public School Division",
          "Grasslands Regional School Division No.6",
          "Greater St. Albert Roman Catholic Separate School District No. 734",
          "High Prairie School Division No.48",
          "Holy Family Catholic Regional Division No.37",
          "Holy Spirit Roman Catholic Separate School Division",
          "Horizon School Division No.67",
          "Kee Tas Kee Now Tribal Council Education Authority",
          "King's University, The",
          "Lac La Biche County",
          "Lakeland College",
          "Lethbridge College",
          "Lethbridge School District No.51",
          "Livingstone Range School Division",
          "Living Waters Catholic Regional Division No.42",
          "MacEwan University",
          "Medicine Hat Catholic School Board",
          "Medicine Hat College",
          "Medicine Hat School District No.76",
          "MindFuel",
          "Mount Royal University",
          "NAIT",
          "NorQuest College",
          "Northern Gateway Public Schools",
          "Northern Lakes College",
          "Northern Lights Library System",
          "Northern Lights School Division No.69",
          "Northland School Division No.61",
          "Northwestern Polytechnic",
          "OpenBSD Foundation",
          "Palliser Regional Schools No.26",
          "Parkland School Division No.70",
          "Peace Library System",
          "Peace River School Division No.10",
          "Peace Wapiti School Division No.76",
          "Pembina Hills Public Schools",
          "Portage College",
          "Prairie Land School Division",
          "Prairie Rose School Division No.8",
          "Red Deer Catholic Division No.39",
          "Red Deer Polytechnic",
          "Red Deer Public Library",
          "Red Deer Public Schools",
          "SAIT Polytechnic",
          "St. Albert Public Schools",
          "St. Thomas Aquinas Roman Catholic Division No.38",
          "STEM Innovation Academy",
          "Stoney Education Authority",
          "Sturgeon Public School Division No.24",
          "University of Alberta",
          "University of Calgary",
          "University of Lethbridge",
          "Wetaskiwin Regional Public Schools",
          "Whipcord Ltd",
          "Wild Rose School Division No.66",
          "Wolf Creek Regional Division No.32"
         ],
         "legendgroup": "",
         "marker": {
          "color": "#636efa",
          "symbol": "circle"
         },
         "mode": "markers",
         "name": "",
         "orientation": "v",
         "showlegend": false,
         "type": "scatter",
         "x": [
          28.373063170441064,
          27.12245530393333,
          29.6774016686532,
          26.28634088200244,
          30.839737783075144,
          30.839737783075144,
          18.31501787842673,
          33.30750893921336,
          29.3780452920143,
          21.884266984505373,
          26.730441001191966,
          44.152872467222885,
          28.373063170441064,
          26.504004767580486,
          28.604433849821245,
          26.804457687723513,
          26.63668653158522,
          19.541501787842666,
          27.192085816448202,
          28.604433849821245,
          29.6774016686532,
          33.78395709177594,
          27.822050059594755,
          39.56438617401668,
          30.557377830750927,
          29.88793802145413,
          26.804457687723513,
          44.152872467222885,
          24.330107270560205,
          29.6774016686532,
          28.604433849821245,
          27.367532777115642,
          27.641668653158533,
          42.62593563766392,
          10.938021454112063,
          26.63668653158522,
          26.292371871275346,
          26.358164481525648,
          0,
          0,
          0,
          13.568081048867768,
          38.51718712753284,
          28.92133492252685,
          24.438665077473217,
          8.905578069129945,
          33.39907032181169,
          37.08674612634091,
          24.438665077473217,
          30.10505363528015,
          39.436638855780735,
          44.18302741358767,
          33.308605482717574,
          33.78395709177594,
          24.679904648390963,
          17.68066746126342,
          29.6774016686532,
          45.679261025029824,
          45.679261025029824,
          45.679261025029824,
          26.292371871275346,
          26.05880810488683,
          29.63518474374259,
          29.6774016686532,
          17.68066746126342,
          24.438665077473217,
          39.436638855780735,
          44.82231227651968,
          8.905578069129945,
          0,
          29.22617401668655,
          33.39907032181169,
          26.910274135876087,
          0.6343504171633111,
          10.938021454112063,
          0,
          24.71718712753279,
          39.436638855780735,
          40.83034564958287,
          46,
          27.822050059594755,
          27.822050059594755,
          27.822050059594755,
          27.822050059594755,
          27.711299165673484,
          22.15675804529203,
          29.3780452920143,
          26.371323003575757,
          24.679904648390963,
          28.829773539928514,
          29.485506555423182,
          26.28634088200244,
          33.308605482717574,
          30.383027413587616,
          33.39907032181169,
          21.884266984505373,
          29.21630512514899
         ],
         "xaxis": "x",
         "y": [
          16.417659585255787,
          7.789306900572946,
          22.691553009177095,
          8.22719667393399,
          29.537443593773776,
          29.537443593773776,
          8.892485930132342,
          19.624575368858707,
          21.082264361405482,
          15.83458398823707,
          8.02370329057446,
          18.587866957359417,
          16.417659585255787,
          8.105333874157095,
          8.277924250874605,
          8.375880951173768,
          7.803300714901403,
          8.375880951173768,
          13.852710033970475,
          8.277924250874605,
          22.691553009177095,
          0.040815291791297365,
          15.046265781067788,
          14.530243877706212,
          23.813973533438126,
          22.5702732849972,
          8.375880951173768,
          18.587866957359417,
          8.268011965725288,
          22.691553009177095,
          8.277924250874605,
          22.63674390305734,
          5.436013791005411,
          40.89050854332505,
          46,
          7.803300714901403,
          8.475586878263963,
          7.336257161689408,
          32.24233128834354,
          32.24233128834354,
          32.24233128834354,
          22.92828170156668,
          5.436013791005411,
          23.219819500076056,
          35.26557825888556,
          38.47715864726462,
          0.28512396694216774,
          0.7923997363484223,
          35.26557825888556,
          22.51663033007148,
          29.823733711909934,
          21.665923034021198,
          0,
          0.040815291791297365,
          5.715890077574402,
          26.23257110987173,
          22.691553009177095,
          2.5101404451655545,
          2.5101404451655545,
          2.5101404451655545,
          8.475586878263963,
          7.806216092886469,
          22.853064949551296,
          22.691553009177095,
          26.23257110987173,
          35.26557825888556,
          29.823733711909934,
          26.913020331592573,
          38.47715864726462,
          32.24233128834354,
          22.54753333671346,
          0.28512396694216774,
          22.63674390305734,
          31.947878111849093,
          46,
          32.24233128834354,
          26.135197485169606,
          29.823733711909934,
          7.832454494752312,
          1.0722760229174133,
          15.046265781067788,
          15.046265781067788,
          15.046265781067788,
          15.046265781067788,
          8.640597272220266,
          13.434644830908063,
          21.082264361405482,
          7.759570045124999,
          5.715890077574402,
          24.191806520306237,
          22.564442529027026,
          8.22719667393399,
          0,
          19.33303757034933,
          0.28512396694216774,
          15.83458398823707,
          17.64211833899508
         ],
         "yaxis": "y"
        }
       ],
       "layout": {
        "height": 800,
        "legend": {
         "tracegroupgap": 0
        },
        "margin": {
         "t": 60
        },
        "template": {
         "data": {
          "bar": [
           {
            "error_x": {
             "color": "#2a3f5f"
            },
            "error_y": {
             "color": "#2a3f5f"
            },
            "marker": {
             "line": {
              "color": "#E5ECF6",
              "width": 0.5
             },
             "pattern": {
              "fillmode": "overlay",
              "size": 10,
              "solidity": 0.2
             }
            },
            "type": "bar"
           }
          ],
          "barpolar": [
           {
            "marker": {
             "line": {
              "color": "#E5ECF6",
              "width": 0.5
             },
             "pattern": {
              "fillmode": "overlay",
              "size": 10,
              "solidity": 0.2
             }
            },
            "type": "barpolar"
           }
          ],
          "carpet": [
           {
            "aaxis": {
             "endlinecolor": "#2a3f5f",
             "gridcolor": "white",
             "linecolor": "white",
             "minorgridcolor": "white",
             "startlinecolor": "#2a3f5f"
            },
            "baxis": {
             "endlinecolor": "#2a3f5f",
             "gridcolor": "white",
             "linecolor": "white",
             "minorgridcolor": "white",
             "startlinecolor": "#2a3f5f"
            },
            "type": "carpet"
           }
          ],
          "choropleth": [
           {
            "colorbar": {
             "outlinewidth": 0,
             "ticks": ""
            },
            "type": "choropleth"
           }
          ],
          "contour": [
           {
            "colorbar": {
             "outlinewidth": 0,
             "ticks": ""
            },
            "colorscale": [
             [
              0,
              "#0d0887"
             ],
             [
              0.1111111111111111,
              "#46039f"
             ],
             [
              0.2222222222222222,
              "#7201a8"
             ],
             [
              0.3333333333333333,
              "#9c179e"
             ],
             [
              0.4444444444444444,
              "#bd3786"
             ],
             [
              0.5555555555555556,
              "#d8576b"
             ],
             [
              0.6666666666666666,
              "#ed7953"
             ],
             [
              0.7777777777777778,
              "#fb9f3a"
             ],
             [
              0.8888888888888888,
              "#fdca26"
             ],
             [
              1,
              "#f0f921"
             ]
            ],
            "type": "contour"
           }
          ],
          "contourcarpet": [
           {
            "colorbar": {
             "outlinewidth": 0,
             "ticks": ""
            },
            "type": "contourcarpet"
           }
          ],
          "heatmap": [
           {
            "colorbar": {
             "outlinewidth": 0,
             "ticks": ""
            },
            "colorscale": [
             [
              0,
              "#0d0887"
             ],
             [
              0.1111111111111111,
              "#46039f"
             ],
             [
              0.2222222222222222,
              "#7201a8"
             ],
             [
              0.3333333333333333,
              "#9c179e"
             ],
             [
              0.4444444444444444,
              "#bd3786"
             ],
             [
              0.5555555555555556,
              "#d8576b"
             ],
             [
              0.6666666666666666,
              "#ed7953"
             ],
             [
              0.7777777777777778,
              "#fb9f3a"
             ],
             [
              0.8888888888888888,
              "#fdca26"
             ],
             [
              1,
              "#f0f921"
             ]
            ],
            "type": "heatmap"
           }
          ],
          "heatmapgl": [
           {
            "colorbar": {
             "outlinewidth": 0,
             "ticks": ""
            },
            "colorscale": [
             [
              0,
              "#0d0887"
             ],
             [
              0.1111111111111111,
              "#46039f"
             ],
             [
              0.2222222222222222,
              "#7201a8"
             ],
             [
              0.3333333333333333,
              "#9c179e"
             ],
             [
              0.4444444444444444,
              "#bd3786"
             ],
             [
              0.5555555555555556,
              "#d8576b"
             ],
             [
              0.6666666666666666,
              "#ed7953"
             ],
             [
              0.7777777777777778,
              "#fb9f3a"
             ],
             [
              0.8888888888888888,
              "#fdca26"
             ],
             [
              1,
              "#f0f921"
             ]
            ],
            "type": "heatmapgl"
           }
          ],
          "histogram": [
           {
            "marker": {
             "pattern": {
              "fillmode": "overlay",
              "size": 10,
              "solidity": 0.2
             }
            },
            "type": "histogram"
           }
          ],
          "histogram2d": [
           {
            "colorbar": {
             "outlinewidth": 0,
             "ticks": ""
            },
            "colorscale": [
             [
              0,
              "#0d0887"
             ],
             [
              0.1111111111111111,
              "#46039f"
             ],
             [
              0.2222222222222222,
              "#7201a8"
             ],
             [
              0.3333333333333333,
              "#9c179e"
             ],
             [
              0.4444444444444444,
              "#bd3786"
             ],
             [
              0.5555555555555556,
              "#d8576b"
             ],
             [
              0.6666666666666666,
              "#ed7953"
             ],
             [
              0.7777777777777778,
              "#fb9f3a"
             ],
             [
              0.8888888888888888,
              "#fdca26"
             ],
             [
              1,
              "#f0f921"
             ]
            ],
            "type": "histogram2d"
           }
          ],
          "histogram2dcontour": [
           {
            "colorbar": {
             "outlinewidth": 0,
             "ticks": ""
            },
            "colorscale": [
             [
              0,
              "#0d0887"
             ],
             [
              0.1111111111111111,
              "#46039f"
             ],
             [
              0.2222222222222222,
              "#7201a8"
             ],
             [
              0.3333333333333333,
              "#9c179e"
             ],
             [
              0.4444444444444444,
              "#bd3786"
             ],
             [
              0.5555555555555556,
              "#d8576b"
             ],
             [
              0.6666666666666666,
              "#ed7953"
             ],
             [
              0.7777777777777778,
              "#fb9f3a"
             ],
             [
              0.8888888888888888,
              "#fdca26"
             ],
             [
              1,
              "#f0f921"
             ]
            ],
            "type": "histogram2dcontour"
           }
          ],
          "mesh3d": [
           {
            "colorbar": {
             "outlinewidth": 0,
             "ticks": ""
            },
            "type": "mesh3d"
           }
          ],
          "parcoords": [
           {
            "line": {
             "colorbar": {
              "outlinewidth": 0,
              "ticks": ""
             }
            },
            "type": "parcoords"
           }
          ],
          "pie": [
           {
            "automargin": true,
            "type": "pie"
           }
          ],
          "scatter": [
           {
            "fillpattern": {
             "fillmode": "overlay",
             "size": 10,
             "solidity": 0.2
            },
            "type": "scatter"
           }
          ],
          "scatter3d": [
           {
            "line": {
             "colorbar": {
              "outlinewidth": 0,
              "ticks": ""
             }
            },
            "marker": {
             "colorbar": {
              "outlinewidth": 0,
              "ticks": ""
             }
            },
            "type": "scatter3d"
           }
          ],
          "scattercarpet": [
           {
            "marker": {
             "colorbar": {
              "outlinewidth": 0,
              "ticks": ""
             }
            },
            "type": "scattercarpet"
           }
          ],
          "scattergeo": [
           {
            "marker": {
             "colorbar": {
              "outlinewidth": 0,
              "ticks": ""
             }
            },
            "type": "scattergeo"
           }
          ],
          "scattergl": [
           {
            "marker": {
             "colorbar": {
              "outlinewidth": 0,
              "ticks": ""
             }
            },
            "type": "scattergl"
           }
          ],
          "scattermapbox": [
           {
            "marker": {
             "colorbar": {
              "outlinewidth": 0,
              "ticks": ""
             }
            },
            "type": "scattermapbox"
           }
          ],
          "scatterpolar": [
           {
            "marker": {
             "colorbar": {
              "outlinewidth": 0,
              "ticks": ""
             }
            },
            "type": "scatterpolar"
           }
          ],
          "scatterpolargl": [
           {
            "marker": {
             "colorbar": {
              "outlinewidth": 0,
              "ticks": ""
             }
            },
            "type": "scatterpolargl"
           }
          ],
          "scatterternary": [
           {
            "marker": {
             "colorbar": {
              "outlinewidth": 0,
              "ticks": ""
             }
            },
            "type": "scatterternary"
           }
          ],
          "surface": [
           {
            "colorbar": {
             "outlinewidth": 0,
             "ticks": ""
            },
            "colorscale": [
             [
              0,
              "#0d0887"
             ],
             [
              0.1111111111111111,
              "#46039f"
             ],
             [
              0.2222222222222222,
              "#7201a8"
             ],
             [
              0.3333333333333333,
              "#9c179e"
             ],
             [
              0.4444444444444444,
              "#bd3786"
             ],
             [
              0.5555555555555556,
              "#d8576b"
             ],
             [
              0.6666666666666666,
              "#ed7953"
             ],
             [
              0.7777777777777778,
              "#fb9f3a"
             ],
             [
              0.8888888888888888,
              "#fdca26"
             ],
             [
              1,
              "#f0f921"
             ]
            ],
            "type": "surface"
           }
          ],
          "table": [
           {
            "cells": {
             "fill": {
              "color": "#EBF0F8"
             },
             "line": {
              "color": "white"
             }
            },
            "header": {
             "fill": {
              "color": "#C8D4E3"
             },
             "line": {
              "color": "white"
             }
            },
            "type": "table"
           }
          ]
         },
         "layout": {
          "annotationdefaults": {
           "arrowcolor": "#2a3f5f",
           "arrowhead": 0,
           "arrowwidth": 1
          },
          "autotypenumbers": "strict",
          "coloraxis": {
           "colorbar": {
            "outlinewidth": 0,
            "ticks": ""
           }
          },
          "colorscale": {
           "diverging": [
            [
             0,
             "#8e0152"
            ],
            [
             0.1,
             "#c51b7d"
            ],
            [
             0.2,
             "#de77ae"
            ],
            [
             0.3,
             "#f1b6da"
            ],
            [
             0.4,
             "#fde0ef"
            ],
            [
             0.5,
             "#f7f7f7"
            ],
            [
             0.6,
             "#e6f5d0"
            ],
            [
             0.7,
             "#b8e186"
            ],
            [
             0.8,
             "#7fbc41"
            ],
            [
             0.9,
             "#4d9221"
            ],
            [
             1,
             "#276419"
            ]
           ],
           "sequential": [
            [
             0,
             "#0d0887"
            ],
            [
             0.1111111111111111,
             "#46039f"
            ],
            [
             0.2222222222222222,
             "#7201a8"
            ],
            [
             0.3333333333333333,
             "#9c179e"
            ],
            [
             0.4444444444444444,
             "#bd3786"
            ],
            [
             0.5555555555555556,
             "#d8576b"
            ],
            [
             0.6666666666666666,
             "#ed7953"
            ],
            [
             0.7777777777777778,
             "#fb9f3a"
            ],
            [
             0.8888888888888888,
             "#fdca26"
            ],
            [
             1,
             "#f0f921"
            ]
           ],
           "sequentialminus": [
            [
             0,
             "#0d0887"
            ],
            [
             0.1111111111111111,
             "#46039f"
            ],
            [
             0.2222222222222222,
             "#7201a8"
            ],
            [
             0.3333333333333333,
             "#9c179e"
            ],
            [
             0.4444444444444444,
             "#bd3786"
            ],
            [
             0.5555555555555556,
             "#d8576b"
            ],
            [
             0.6666666666666666,
             "#ed7953"
            ],
            [
             0.7777777777777778,
             "#fb9f3a"
            ],
            [
             0.8888888888888888,
             "#fdca26"
            ],
            [
             1,
             "#f0f921"
            ]
           ]
          },
          "colorway": [
           "#636efa",
           "#EF553B",
           "#00cc96",
           "#ab63fa",
           "#FFA15A",
           "#19d3f3",
           "#FF6692",
           "#B6E880",
           "#FF97FF",
           "#FECB52"
          ],
          "font": {
           "color": "#2a3f5f"
          },
          "geo": {
           "bgcolor": "white",
           "lakecolor": "white",
           "landcolor": "#E5ECF6",
           "showlakes": true,
           "showland": true,
           "subunitcolor": "white"
          },
          "hoverlabel": {
           "align": "left"
          },
          "hovermode": "closest",
          "mapbox": {
           "style": "light"
          },
          "paper_bgcolor": "white",
          "plot_bgcolor": "#E5ECF6",
          "polar": {
           "angularaxis": {
            "gridcolor": "white",
            "linecolor": "white",
            "ticks": ""
           },
           "bgcolor": "#E5ECF6",
           "radialaxis": {
            "gridcolor": "white",
            "linecolor": "white",
            "ticks": ""
           }
          },
          "scene": {
           "xaxis": {
            "backgroundcolor": "#E5ECF6",
            "gridcolor": "white",
            "gridwidth": 2,
            "linecolor": "white",
            "showbackground": true,
            "ticks": "",
            "zerolinecolor": "white"
           },
           "yaxis": {
            "backgroundcolor": "#E5ECF6",
            "gridcolor": "white",
            "gridwidth": 2,
            "linecolor": "white",
            "showbackground": true,
            "ticks": "",
            "zerolinecolor": "white"
           },
           "zaxis": {
            "backgroundcolor": "#E5ECF6",
            "gridcolor": "white",
            "gridwidth": 2,
            "linecolor": "white",
            "showbackground": true,
            "ticks": "",
            "zerolinecolor": "white"
           }
          },
          "shapedefaults": {
           "line": {
            "color": "#2a3f5f"
           }
          },
          "ternary": {
           "aaxis": {
            "gridcolor": "white",
            "linecolor": "white",
            "ticks": ""
           },
           "baxis": {
            "gridcolor": "white",
            "linecolor": "white",
            "ticks": ""
           },
           "bgcolor": "#E5ECF6",
           "caxis": {
            "gridcolor": "white",
            "linecolor": "white",
            "ticks": ""
           }
          },
          "title": {
           "x": 0.05
          },
          "xaxis": {
           "automargin": true,
           "gridcolor": "white",
           "linecolor": "white",
           "ticks": "",
           "title": {
            "standoff": 15
           },
           "zerolinecolor": "white",
           "zerolinewidth": 2
          },
          "yaxis": {
           "automargin": true,
           "gridcolor": "white",
           "linecolor": "white",
           "ticks": "",
           "title": {
            "standoff": 15
           },
           "zerolinecolor": "white",
           "zerolinewidth": 2
          }
         }
        },
        "width": 400,
        "xaxis": {
         "anchor": "y",
         "domain": [
          0,
          1
         ],
         "range": [
          0,
          48
         ],
         "title": {
          "text": "x inches"
         }
        },
        "yaxis": {
         "anchor": "x",
         "domain": [
          0,
          1
         ],
         "range": [
          0,
          96
         ],
         "title": {
          "text": "y inches"
         }
        }
       }
      }
     },
     "metadata": {},
     "output_type": "display_data"
    },
    {
     "data": {
      "application/vnd.plotly.v1+json": {
       "config": {
        "plotlyServerURL": "https://plot.ly"
       },
       "data": [
        {
         "lat": [
          52.4668,
          50.987,
          53.5428,
          51.0621,
          54.7169,
          54.7169,
          51.1762,
          53.0168,
          53.2668,
          52.3668,
          51.0272,
          52.839,
          52.4668,
          51.0412,
          51.0708,
          51.0876,
          50.9894,
          51.0876,
          52.0269,
          51.0708,
          53.5428,
          49.6581,
          52.2316,
          52.1431,
          53.7353,
          53.522,
          51.0876,
          52.839,
          51.0691,
          53.5428,
          51.0708,
          53.5334,
          50.5834,
          56.664,
          57.5403,
          50.9894,
          51.1047,
          50.9093,
          55.1808,
          55.1808,
          55.1808,
          53.5834,
          50.5834,
          53.6334,
          55.6993,
          56.2501,
          49.7,
          49.787,
          55.6993,
          53.5128,
          54.766,
          53.3669,
          49.6511,
          49.6581,
          50.6314,
          54.1501,
          53.5428,
          50.0816,
          50.0816,
          50.0816,
          51.1047,
          50.9899,
          53.5705,
          53.5428,
          54.1501,
          55.6993,
          54.766,
          54.2668,
          56.2501,
          55.1808,
          53.5181,
          49.7,
          53.5334,
          55.1303,
          57.5403,
          55.1808,
          54.1334,
          54.766,
          50.9944,
          49.835,
          52.2316,
          52.2316,
          52.2316,
          52.2316,
          51.133,
          51.9552,
          53.2668,
          50.9819,
          50.6314,
          53.8001,
          53.521,
          51.0621,
          49.6511,
          52.9668,
          49.7,
          52.3668,
          52.6768
         ],
         "lon": [
          -113.7353,
          -113.9634,
          -113.4974,
          -114.1159,
          -113.2854,
          -113.2854,
          -115.5698,
          -112.8353,
          -113.552,
          -114.9188,
          -114.0349,
          -110.8572,
          -113.7353,
          -114.0762,
          -113.6931,
          -114.0214,
          -114.052,
          -115.3461,
          -113.9507,
          -113.6931,
          -113.4974,
          -112.7484,
          -113.8358,
          -111.6941,
          -113.3369,
          -113.459,
          -114.0214,
          -110.8572,
          -114.4727,
          -113.4974,
          -113.6931,
          -113.9187,
          -113.8687,
          -111.1357,
          -116.9153,
          -114.052,
          -114.1148,
          -114.1028,
          -118.9103,
          -118.9103,
          -118.9103,
          -116.4356,
          -111.8851,
          -113.6353,
          -114.4529,
          -117.286,
          -112.8186,
          -112.146,
          -114.4529,
          -113.4194,
          -111.7174,
          -110.8517,
          -112.8351,
          -112.7484,
          -114.4089,
          -115.6855,
          -113.4974,
          -110.5788,
          -110.5788,
          -110.5788,
          -114.1148,
          -114.1574,
          -113.5051,
          -113.4974,
          -115.6855,
          -114.4529,
          -111.7174,
          -110.7351,
          -117.286,
          -118.9103,
          -113.5797,
          -112.8186,
          -114.0021,
          -118.7946,
          -116.9153,
          -118.9103,
          -114.4021,
          -111.7174,
          -111.4632,
          -110.5203,
          -113.8358,
          -113.8358,
          -113.8358,
          -113.8358,
          -113.856,
          -114.8691,
          -113.552,
          -114.1004,
          -114.4089,
          -113.652,
          -113.5324,
          -114.1159,
          -112.8351,
          -113.3687,
          -112.8186,
          -114.9188,
          -113.5815
         ],
         "text": [
          "Alberta Conference SDA Church",
          "Alberta Health Services",
          "Alberta Innovates",
          "Alberta University of the Arts",
          "Aspen View School Division",
          "Athabasca University",
          "Banff Centre for Arts and Creativity",
          "Battle River School Division",
          "Black Gold Regional Division No.18",
          "Blue Mountain Power Co-op",
          "Bow Valley College",
          "Buffalo Trail Public Schools",
          "Burman University ",
          "Calgary Board of Education",
          "Calgary Catholic School District",
          "Calgary Classical Academy",
          "Calgary Girls' School",
          "Canadian Rockies School District No.12",
          "Chinook's Edge School Division No.73",
          "City of Calgary",
          "City of Edmonton",
          "City of Lethbridge",
          "City of Red Deer",
          "Clearview Public Schools",
          "Concordia University of Edmonton",
          "Conseil scolaire Centre-Nord",
          "Conseil scolaire FrancoSud",
          "East Central Alberta Catholic Schools",
          "Edge School for Athletes",
          "Edmonton Public Library",
          "ENFOCOM International Corporation",
          "Evergreen Catholic Regional Division No.2",
          "Foothills School Division",
          "Fort McMurray Public School District",
          "Fort Vermilion School District No.52",
          "Foundations for the Future Charter Academy",
          "Genome Alberta",
          "Glenmore Christian Academy",
          "Grande Prairie & District Catholic Schools",
          "Grande Prairie Public Library",
          "Grande Prairie Public School District No.2357",
          "Grande Yellowhead Public School Division",
          "Grasslands Regional School Division No.6",
          "Greater St. Albert Roman Catholic Separate School District No. 734",
          "High Prairie School Division No.48",
          "Holy Family Catholic Regional Division No.37",
          "Holy Spirit Roman Catholic Separate School Division",
          "Horizon School Division No.67",
          "Kee Tas Kee Now Tribal Council Education Authority",
          "King's University, The",
          "Lac La Biche County",
          "Lakeland College",
          "Lethbridge College",
          "Lethbridge School District No.51",
          "Livingstone Range School Division",
          "Living Waters Catholic Regional Division No.42",
          "MacEwan University",
          "Medicine Hat Catholic School Board",
          "Medicine Hat College",
          "Medicine Hat School District No.76",
          "MindFuel",
          "Mount Royal University",
          "NAIT",
          "NorQuest College",
          "Northern Gateway Public Schools",
          "Northern Lakes College",
          "Northern Lights Library System",
          "Northern Lights School Division No.69",
          "Northland School Division No.61",
          "Northwestern Polytechnic",
          "OpenBSD Foundation",
          "Palliser Regional Schools No.26",
          "Parkland School Division No.70",
          "Peace Library System",
          "Peace River School Division No.10",
          "Peace Wapiti School Division No.76",
          "Pembina Hills Public Schools",
          "Portage College",
          "Prairie Land School Division",
          "Prairie Rose School Division No.8",
          "Red Deer Catholic Division No.39",
          "Red Deer Polytechnic",
          "Red Deer Public Library",
          "Red Deer Public Schools",
          "SAIT Polytechnic",
          "St. Albert Public Schools",
          "St. Thomas Aquinas Roman Catholic Division No.38",
          "STEM Innovation Academy",
          "Stoney Education Authority",
          "Sturgeon Public School Division No.24",
          "University of Alberta",
          "University of Calgary",
          "University of Lethbridge",
          "Wetaskiwin Regional Public Schools",
          "Whipcord Ltd",
          "Wild Rose School Division No.66",
          "Wolf Creek Regional Division No.32"
         ],
         "type": "scattergeo"
        }
       ],
       "layout": {
        "geo": {
         "countrycolor": "rgb(255, 255, 255)",
         "lakecolor": "rgb(255, 255, 255)",
         "landcolor": "rgb(212, 212, 212)",
         "lataxis": {
          "dtick": 5,
          "gridwidth": 0.5,
          "range": [
           48,
           61
          ],
          "showgrid": true
         },
         "lonaxis": {
          "dtick": 5,
          "gridwidth": 0.5,
          "range": [
           -120,
           -110
          ],
          "showgrid": true
         },
         "projection": {
          "rotation": {
           "lon": -100
          },
          "type": "conic conformal"
         },
         "resolution": 50,
         "scope": "north america",
         "showcountries": true,
         "showlakes": true,
         "showland": true,
         "showsubunits": true,
         "subunitcolor": "rgb(255, 255, 255)"
        },
        "height": 600,
        "margin": {
         "b": 0,
         "l": 0,
         "r": 0,
         "t": 0
        },
        "template": {
         "data": {
          "bar": [
           {
            "error_x": {
             "color": "#2a3f5f"
            },
            "error_y": {
             "color": "#2a3f5f"
            },
            "marker": {
             "line": {
              "color": "#E5ECF6",
              "width": 0.5
             },
             "pattern": {
              "fillmode": "overlay",
              "size": 10,
              "solidity": 0.2
             }
            },
            "type": "bar"
           }
          ],
          "barpolar": [
           {
            "marker": {
             "line": {
              "color": "#E5ECF6",
              "width": 0.5
             },
             "pattern": {
              "fillmode": "overlay",
              "size": 10,
              "solidity": 0.2
             }
            },
            "type": "barpolar"
           }
          ],
          "carpet": [
           {
            "aaxis": {
             "endlinecolor": "#2a3f5f",
             "gridcolor": "white",
             "linecolor": "white",
             "minorgridcolor": "white",
             "startlinecolor": "#2a3f5f"
            },
            "baxis": {
             "endlinecolor": "#2a3f5f",
             "gridcolor": "white",
             "linecolor": "white",
             "minorgridcolor": "white",
             "startlinecolor": "#2a3f5f"
            },
            "type": "carpet"
           }
          ],
          "choropleth": [
           {
            "colorbar": {
             "outlinewidth": 0,
             "ticks": ""
            },
            "type": "choropleth"
           }
          ],
          "contour": [
           {
            "colorbar": {
             "outlinewidth": 0,
             "ticks": ""
            },
            "colorscale": [
             [
              0,
              "#0d0887"
             ],
             [
              0.1111111111111111,
              "#46039f"
             ],
             [
              0.2222222222222222,
              "#7201a8"
             ],
             [
              0.3333333333333333,
              "#9c179e"
             ],
             [
              0.4444444444444444,
              "#bd3786"
             ],
             [
              0.5555555555555556,
              "#d8576b"
             ],
             [
              0.6666666666666666,
              "#ed7953"
             ],
             [
              0.7777777777777778,
              "#fb9f3a"
             ],
             [
              0.8888888888888888,
              "#fdca26"
             ],
             [
              1,
              "#f0f921"
             ]
            ],
            "type": "contour"
           }
          ],
          "contourcarpet": [
           {
            "colorbar": {
             "outlinewidth": 0,
             "ticks": ""
            },
            "type": "contourcarpet"
           }
          ],
          "heatmap": [
           {
            "colorbar": {
             "outlinewidth": 0,
             "ticks": ""
            },
            "colorscale": [
             [
              0,
              "#0d0887"
             ],
             [
              0.1111111111111111,
              "#46039f"
             ],
             [
              0.2222222222222222,
              "#7201a8"
             ],
             [
              0.3333333333333333,
              "#9c179e"
             ],
             [
              0.4444444444444444,
              "#bd3786"
             ],
             [
              0.5555555555555556,
              "#d8576b"
             ],
             [
              0.6666666666666666,
              "#ed7953"
             ],
             [
              0.7777777777777778,
              "#fb9f3a"
             ],
             [
              0.8888888888888888,
              "#fdca26"
             ],
             [
              1,
              "#f0f921"
             ]
            ],
            "type": "heatmap"
           }
          ],
          "heatmapgl": [
           {
            "colorbar": {
             "outlinewidth": 0,
             "ticks": ""
            },
            "colorscale": [
             [
              0,
              "#0d0887"
             ],
             [
              0.1111111111111111,
              "#46039f"
             ],
             [
              0.2222222222222222,
              "#7201a8"
             ],
             [
              0.3333333333333333,
              "#9c179e"
             ],
             [
              0.4444444444444444,
              "#bd3786"
             ],
             [
              0.5555555555555556,
              "#d8576b"
             ],
             [
              0.6666666666666666,
              "#ed7953"
             ],
             [
              0.7777777777777778,
              "#fb9f3a"
             ],
             [
              0.8888888888888888,
              "#fdca26"
             ],
             [
              1,
              "#f0f921"
             ]
            ],
            "type": "heatmapgl"
           }
          ],
          "histogram": [
           {
            "marker": {
             "pattern": {
              "fillmode": "overlay",
              "size": 10,
              "solidity": 0.2
             }
            },
            "type": "histogram"
           }
          ],
          "histogram2d": [
           {
            "colorbar": {
             "outlinewidth": 0,
             "ticks": ""
            },
            "colorscale": [
             [
              0,
              "#0d0887"
             ],
             [
              0.1111111111111111,
              "#46039f"
             ],
             [
              0.2222222222222222,
              "#7201a8"
             ],
             [
              0.3333333333333333,
              "#9c179e"
             ],
             [
              0.4444444444444444,
              "#bd3786"
             ],
             [
              0.5555555555555556,
              "#d8576b"
             ],
             [
              0.6666666666666666,
              "#ed7953"
             ],
             [
              0.7777777777777778,
              "#fb9f3a"
             ],
             [
              0.8888888888888888,
              "#fdca26"
             ],
             [
              1,
              "#f0f921"
             ]
            ],
            "type": "histogram2d"
           }
          ],
          "histogram2dcontour": [
           {
            "colorbar": {
             "outlinewidth": 0,
             "ticks": ""
            },
            "colorscale": [
             [
              0,
              "#0d0887"
             ],
             [
              0.1111111111111111,
              "#46039f"
             ],
             [
              0.2222222222222222,
              "#7201a8"
             ],
             [
              0.3333333333333333,
              "#9c179e"
             ],
             [
              0.4444444444444444,
              "#bd3786"
             ],
             [
              0.5555555555555556,
              "#d8576b"
             ],
             [
              0.6666666666666666,
              "#ed7953"
             ],
             [
              0.7777777777777778,
              "#fb9f3a"
             ],
             [
              0.8888888888888888,
              "#fdca26"
             ],
             [
              1,
              "#f0f921"
             ]
            ],
            "type": "histogram2dcontour"
           }
          ],
          "mesh3d": [
           {
            "colorbar": {
             "outlinewidth": 0,
             "ticks": ""
            },
            "type": "mesh3d"
           }
          ],
          "parcoords": [
           {
            "line": {
             "colorbar": {
              "outlinewidth": 0,
              "ticks": ""
             }
            },
            "type": "parcoords"
           }
          ],
          "pie": [
           {
            "automargin": true,
            "type": "pie"
           }
          ],
          "scatter": [
           {
            "fillpattern": {
             "fillmode": "overlay",
             "size": 10,
             "solidity": 0.2
            },
            "type": "scatter"
           }
          ],
          "scatter3d": [
           {
            "line": {
             "colorbar": {
              "outlinewidth": 0,
              "ticks": ""
             }
            },
            "marker": {
             "colorbar": {
              "outlinewidth": 0,
              "ticks": ""
             }
            },
            "type": "scatter3d"
           }
          ],
          "scattercarpet": [
           {
            "marker": {
             "colorbar": {
              "outlinewidth": 0,
              "ticks": ""
             }
            },
            "type": "scattercarpet"
           }
          ],
          "scattergeo": [
           {
            "marker": {
             "colorbar": {
              "outlinewidth": 0,
              "ticks": ""
             }
            },
            "type": "scattergeo"
           }
          ],
          "scattergl": [
           {
            "marker": {
             "colorbar": {
              "outlinewidth": 0,
              "ticks": ""
             }
            },
            "type": "scattergl"
           }
          ],
          "scattermapbox": [
           {
            "marker": {
             "colorbar": {
              "outlinewidth": 0,
              "ticks": ""
             }
            },
            "type": "scattermapbox"
           }
          ],
          "scatterpolar": [
           {
            "marker": {
             "colorbar": {
              "outlinewidth": 0,
              "ticks": ""
             }
            },
            "type": "scatterpolar"
           }
          ],
          "scatterpolargl": [
           {
            "marker": {
             "colorbar": {
              "outlinewidth": 0,
              "ticks": ""
             }
            },
            "type": "scatterpolargl"
           }
          ],
          "scatterternary": [
           {
            "marker": {
             "colorbar": {
              "outlinewidth": 0,
              "ticks": ""
             }
            },
            "type": "scatterternary"
           }
          ],
          "surface": [
           {
            "colorbar": {
             "outlinewidth": 0,
             "ticks": ""
            },
            "colorscale": [
             [
              0,
              "#0d0887"
             ],
             [
              0.1111111111111111,
              "#46039f"
             ],
             [
              0.2222222222222222,
              "#7201a8"
             ],
             [
              0.3333333333333333,
              "#9c179e"
             ],
             [
              0.4444444444444444,
              "#bd3786"
             ],
             [
              0.5555555555555556,
              "#d8576b"
             ],
             [
              0.6666666666666666,
              "#ed7953"
             ],
             [
              0.7777777777777778,
              "#fb9f3a"
             ],
             [
              0.8888888888888888,
              "#fdca26"
             ],
             [
              1,
              "#f0f921"
             ]
            ],
            "type": "surface"
           }
          ],
          "table": [
           {
            "cells": {
             "fill": {
              "color": "#EBF0F8"
             },
             "line": {
              "color": "white"
             }
            },
            "header": {
             "fill": {
              "color": "#C8D4E3"
             },
             "line": {
              "color": "white"
             }
            },
            "type": "table"
           }
          ]
         },
         "layout": {
          "annotationdefaults": {
           "arrowcolor": "#2a3f5f",
           "arrowhead": 0,
           "arrowwidth": 1
          },
          "autotypenumbers": "strict",
          "coloraxis": {
           "colorbar": {
            "outlinewidth": 0,
            "ticks": ""
           }
          },
          "colorscale": {
           "diverging": [
            [
             0,
             "#8e0152"
            ],
            [
             0.1,
             "#c51b7d"
            ],
            [
             0.2,
             "#de77ae"
            ],
            [
             0.3,
             "#f1b6da"
            ],
            [
             0.4,
             "#fde0ef"
            ],
            [
             0.5,
             "#f7f7f7"
            ],
            [
             0.6,
             "#e6f5d0"
            ],
            [
             0.7,
             "#b8e186"
            ],
            [
             0.8,
             "#7fbc41"
            ],
            [
             0.9,
             "#4d9221"
            ],
            [
             1,
             "#276419"
            ]
           ],
           "sequential": [
            [
             0,
             "#0d0887"
            ],
            [
             0.1111111111111111,
             "#46039f"
            ],
            [
             0.2222222222222222,
             "#7201a8"
            ],
            [
             0.3333333333333333,
             "#9c179e"
            ],
            [
             0.4444444444444444,
             "#bd3786"
            ],
            [
             0.5555555555555556,
             "#d8576b"
            ],
            [
             0.6666666666666666,
             "#ed7953"
            ],
            [
             0.7777777777777778,
             "#fb9f3a"
            ],
            [
             0.8888888888888888,
             "#fdca26"
            ],
            [
             1,
             "#f0f921"
            ]
           ],
           "sequentialminus": [
            [
             0,
             "#0d0887"
            ],
            [
             0.1111111111111111,
             "#46039f"
            ],
            [
             0.2222222222222222,
             "#7201a8"
            ],
            [
             0.3333333333333333,
             "#9c179e"
            ],
            [
             0.4444444444444444,
             "#bd3786"
            ],
            [
             0.5555555555555556,
             "#d8576b"
            ],
            [
             0.6666666666666666,
             "#ed7953"
            ],
            [
             0.7777777777777778,
             "#fb9f3a"
            ],
            [
             0.8888888888888888,
             "#fdca26"
            ],
            [
             1,
             "#f0f921"
            ]
           ]
          },
          "colorway": [
           "#636efa",
           "#EF553B",
           "#00cc96",
           "#ab63fa",
           "#FFA15A",
           "#19d3f3",
           "#FF6692",
           "#B6E880",
           "#FF97FF",
           "#FECB52"
          ],
          "font": {
           "color": "#2a3f5f"
          },
          "geo": {
           "bgcolor": "white",
           "lakecolor": "white",
           "landcolor": "#E5ECF6",
           "showlakes": true,
           "showland": true,
           "subunitcolor": "white"
          },
          "hoverlabel": {
           "align": "left"
          },
          "hovermode": "closest",
          "mapbox": {
           "style": "light"
          },
          "paper_bgcolor": "white",
          "plot_bgcolor": "#E5ECF6",
          "polar": {
           "angularaxis": {
            "gridcolor": "white",
            "linecolor": "white",
            "ticks": ""
           },
           "bgcolor": "#E5ECF6",
           "radialaxis": {
            "gridcolor": "white",
            "linecolor": "white",
            "ticks": ""
           }
          },
          "scene": {
           "xaxis": {
            "backgroundcolor": "#E5ECF6",
            "gridcolor": "white",
            "gridwidth": 2,
            "linecolor": "white",
            "showbackground": true,
            "ticks": "",
            "zerolinecolor": "white"
           },
           "yaxis": {
            "backgroundcolor": "#E5ECF6",
            "gridcolor": "white",
            "gridwidth": 2,
            "linecolor": "white",
            "showbackground": true,
            "ticks": "",
            "zerolinecolor": "white"
           },
           "zaxis": {
            "backgroundcolor": "#E5ECF6",
            "gridcolor": "white",
            "gridwidth": 2,
            "linecolor": "white",
            "showbackground": true,
            "ticks": "",
            "zerolinecolor": "white"
           }
          },
          "shapedefaults": {
           "line": {
            "color": "#2a3f5f"
           }
          },
          "ternary": {
           "aaxis": {
            "gridcolor": "white",
            "linecolor": "white",
            "ticks": ""
           },
           "baxis": {
            "gridcolor": "white",
            "linecolor": "white",
            "ticks": ""
           },
           "bgcolor": "#E5ECF6",
           "caxis": {
            "gridcolor": "white",
            "linecolor": "white",
            "ticks": ""
           }
          },
          "title": {
           "x": 0.05
          },
          "xaxis": {
           "automargin": true,
           "gridcolor": "white",
           "linecolor": "white",
           "ticks": "",
           "title": {
            "standoff": 15
           },
           "zerolinecolor": "white",
           "zerolinewidth": 2
          },
          "yaxis": {
           "automargin": true,
           "gridcolor": "white",
           "linecolor": "white",
           "ticks": "",
           "title": {
            "standoff": 15
           },
           "zerolinecolor": "white",
           "zerolinewidth": 2
          }
         }
        },
        "title": {
         "text": "Cybera Member locations"
        },
        "width": 600,
        "xaxis": {
         "range": [
          0,
          10
         ]
        },
        "yaxis": {
         "range": [
          0,
          10
         ]
        }
       }
      }
     },
     "metadata": {},
     "output_type": "display_data"
    }
   ],
   "source": [
    "import plotly.express as px\n",
    "fig2 = px.scatter(data, x='x inches', y='y inches', hover_name='Member', hover_data=['Address', 'City', 'Postal Code'], height=800, width=400)\n",
    "fig2.update_xaxes(range=[0, 48])\n",
    "fig2.update_yaxes(range=[0, 96])\n",
    "fig2.show()\n",
    "fig.show()"
   ]
  }
 ],
 "metadata": {
  "kernelspec": {
   "display_name": "Python 3",
   "language": "python",
   "name": "python3"
  },
  "language_info": {
   "codemirror_mode": {
    "name": "ipython",
    "version": 3
   },
   "file_extension": ".py",
   "mimetype": "text/x-python",
   "name": "python",
   "nbconvert_exporter": "python",
   "pygments_lexer": "ipython3",
   "version": "3.10.6"
  },
  "vscode": {
   "interpreter": {
    "hash": "916dbcbb3f70747c44a77c7bcd40155683ae19c65e1c03b4aa3499c5328201f1"
   }
  }
 },
 "nbformat": 4,
 "nbformat_minor": 5
}
