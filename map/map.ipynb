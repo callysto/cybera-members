{
 "cells": [
  {
   "cell_type": "markdown",
   "id": "e46af256",
   "metadata": {},
   "source": [
    "# Mapping Cybera Members"
   ]
  },
  {
   "cell_type": "code",
   "execution_count": null,
   "id": "60dacd93-713c-48c4-a170-df37179f053f",
   "metadata": {},
   "outputs": [],
   "source": [
    "import pandas as pd\n",
    "#import geopandas\n",
    "#import pgeocode\n",
    "#nomi = pgeocode.Nominatim('ca')\n",
    "import plotly.graph_objects as go\n",
    "import numpy as np\n",
    "import folium\n",
    "try:\n",
    "    import haversine as hs\n",
    "except:\n",
    "    !pip install --user haversine\n",
    "    import haversine as hs\n",
    "print('Libraries imported')"
   ]
  },
  {
   "cell_type": "markdown",
   "id": "ccf78111",
   "metadata": {},
   "source": [
    "## Getting Member Loocations\n",
    "\n",
    "Using the [Netbox](https://github.com/netbox-community/pynetbox) API, which equires a token, this must be run from on the Cybera network."
   ]
  },
  {
   "cell_type": "code",
   "execution_count": null,
   "id": "8a3b1a60",
   "metadata": {},
   "outputs": [],
   "source": [
    "NETBOX_API_KEY = ''\n",
    "\n",
    "try:\n",
    "    !pip install --user pynetbox==6.6.2\n",
    "    import pynetbox\n",
    "    nb = pynetbox.api('https://netbox.cybera.ca', token=NETBOX_API_KEY)\n",
    "    sites = nb.dcim.sites\n",
    "    locations = []\n",
    "    for site in sites.all():\n",
    "        locations.append([site, site.latitude, site.longitude])\n",
    "    df = pd.DataFrame(locations, columns=['site', 'latitude', 'longitude'])\n",
    "    df.to_csv('data/cybera-members.csv', index=False)\n",
    "except:\n",
    "    df = pd.read_csv('data/cybera-members.csv')\n",
    "display(df)"
   ]
  },
  {
   "cell_type": "markdown",
   "id": "fffcd932",
   "metadata": {},
   "source": [
    "Drop any NaN values"
   ]
  },
  {
   "cell_type": "code",
   "execution_count": null,
   "id": "b4f9a66c",
   "metadata": {},
   "outputs": [],
   "source": [
    "df = df.dropna()\n",
    "df = df.reset_index(drop=True)\n",
    "df"
   ]
  },
  {
   "cell_type": "code",
   "execution_count": null,
   "id": "5cb093f3",
   "metadata": {},
   "outputs": [],
   "source": [
    "locations_map = folium.Map(location=[data['Latitude'].mean(), data['Longitude'].mean()], zoom_start=5)\n",
    "for i in range(0,len(data)):\n",
    "    folium.Marker([data.iloc[i]['Latitude'], data.iloc[i]['Longitude']], popup=data.iloc[i]['Site']).add_to(locations_map)\n",
    "locations_map"
   ]
  },
  {
   "cell_type": "code",
   "execution_count": null,
   "id": "f78d2068",
   "metadata": {},
   "outputs": [],
   "source": [
    "df = df.sort_values(by='Latitude')\n",
    "df.reset_index(inplace=True, drop=True)\n",
    "\n",
    "distances_list = []\n",
    "for i in range(len(df)):\n",
    "    distances_list.append([df.iloc[i]['Site'], df.iloc[i-1]['Site'], \n",
    "                      hs.haversine((df.iloc[i]['Latitude'], df.iloc[i]['Longitude']), \n",
    "                                   (df.iloc[i-1]['Latitude'], df.iloc[i-1]['Longitude']))])\n",
    "dbc = pd.DataFrame(distances_list, columns=['Site', 'Next Site', 'Distance'])\n",
    "dbc"
   ]
  },
  {
   "cell_type": "code",
   "execution_count": null,
   "id": "b5807dd7",
   "metadata": {},
   "outputs": [],
   "source": [
    "dbc[dbc['Distance'] < 75]"
   ]
  },
  {
   "cell_type": "code",
   "execution_count": null,
   "id": "4033e7c5",
   "metadata": {},
   "outputs": [],
   "source": [
    "cities_to_replace = {\n",
    "    'Taber':'Lethbridge',\n",
    "    'Dunmore':'Medicine Hat',\n",
    "    'Morley':'Canmore',\n",
    "    'Banff':'Canmore',\n",
    "    'Ponoka':'Lacombe',\n",
    "    'Wetaskiwin':'Camrose',\n",
    "    'Leduc':'Edmonton',\n",
    "    'Nisku':'Edmonton',\n",
    "    'Spruce Grove':'Edmonton',\n",
    "    'Stony Plain':'Edmonton',\n",
    "    'St. Albert':'Edmonton',\n",
    "    'Morinville':'Edmonton',\n",
    "    'Elk Point':'Lac La Biche',\n",
    "    'Grouard':'High Prairie',\n",
    "    'Red Earth Creek':'High Prairie',\n",
    "    'Grimshaw':'Peace River',\n",
    "}"
   ]
  },
  {
   "cell_type": "code",
   "execution_count": null,
   "id": "f3e38f8c",
   "metadata": {},
   "outputs": [],
   "source": [
    "rows_to_drop = []\n",
    "for i in range(len(cities)):\n",
    "    if cities.iloc[i]['Name'] in cities_to_replace.keys():\n",
    "        print('drop:', i, cities.iloc[i]['Name'])\n",
    "        rows_to_drop.append(i)\n",
    "rows_to_drop"
   ]
  },
  {
   "cell_type": "code",
   "execution_count": null,
   "id": "8eefa0c0",
   "metadata": {},
   "outputs": [],
   "source": [
    "updated_cities = cities.drop(rows_to_drop, axis=0)\n",
    "updated_cities.reset_index(inplace=True, drop=True)\n",
    "updated_cities"
   ]
  },
  {
   "cell_type": "code",
   "execution_count": null,
   "id": "35b83a6b",
   "metadata": {},
   "outputs": [],
   "source": [
    "#updated_cities.to_csv('data/updated_cities.csv', index=False)"
   ]
  },
  {
   "cell_type": "code",
   "execution_count": null,
   "id": "8c3a7139",
   "metadata": {},
   "outputs": [],
   "source": [
    "replaced_cities = pd.DataFrame.from_dict(cities_to_replace, orient='index', columns=['Replaced'])\n",
    "replaced_cities.reset_index(inplace=True)\n",
    "\n",
    "status = pd.read_csv('data/updated_cities.csv')\n",
    "status.drop(['Latitude', 'Longitude'], axis=1, inplace=True)\n",
    "for i in range(len(status)):\n",
    "    city = status.iloc[i]['Name']\n",
    "    cities = [city]\n",
    "    if city in replaced_cities['Replaced'].tolist():\n",
    "        cities.extend(replaced_cities[replaced_cities['Replaced'] == city]['index'].tolist())\n",
    "    status.loc[i,'Cities'] = str(cities)#.join(';')\n",
    "    # Count how many members are in or near that \"replaced_city\"\n",
    "    #status.loc[i,'Count'] = len(cities)\n",
    "    member_count = 0\n",
    "    for city in cities:\n",
    "        member_count += len(data[data['City'] == city])\n",
    "    status.loc[i,'Count'] = member_count\n",
    "\n",
    "status['Count'] = status['Count'].astype(int)\n",
    "status.drop('Name', axis=1, inplace=True)\n",
    "status['LED'] = status.index\n",
    "# set the LED brightness to the number of members in that city (scaled to 100-255)\n",
    "status['Brightness'] = (status['Count']/status['Count'].max()*155 + 100).astype(int)\n",
    "status['Red'] = status['Brightness']\n",
    "status['Green'] = status['Brightness']\n",
    "status['Blue'] = status['Brightness']\n",
    "# drop the name column\n",
    "\n",
    "# export to csv for LEDs\n",
    "status.drop(['Cities','Count'], axis=1).to_csv('../docs/status.csv', index=False)\n",
    "status"
   ]
  },
  {
   "attachments": {},
   "cell_type": "markdown",
   "id": "dad14643",
   "metadata": {},
   "source": []
  },
  {
   "cell_type": "code",
   "execution_count": null,
   "id": "2c4acbe4",
   "metadata": {},
   "outputs": [],
   "source": []
  },
  {
   "attachments": {},
   "cell_type": "markdown",
   "id": "b2c588ca",
   "metadata": {},
   "source": [
    "Create a map for CNC"
   ]
  },
  {
   "cell_type": "code",
   "execution_count": null,
   "id": "eb6c1d67",
   "metadata": {},
   "outputs": [],
   "source": [
    "updated_cities_map = folium.Map(location=[updated_cities['Latitude'].mean(), updated_cities['Longitude'].mean()], zoom_start=5)\n",
    "for i in range(0,len(updated_cities)):\n",
    "    folium.Marker([updated_cities.iloc[i]['Latitude'], updated_cities.iloc[i]['Longitude']], popup=updated_cities.iloc[i]['Name']).add_to(updated_cities_map)\n",
    "updated_cities_map"
   ]
  },
  {
   "cell_type": "code",
   "execution_count": null,
   "id": "867fb1f2-b858-474a-a3c6-169fe80e74f4",
   "metadata": {},
   "outputs": [],
   "source": [
    "fig0 = go.Figure(data=go.Scattergeo(\n",
    "    lat = data['Latitude'],\n",
    "    lon = data['Longitude'],\n",
    "    text = data['Member']\n",
    ")\n",
    "               )\n",
    "\n",
    "fig0.update_layout(\n",
    "    geo = dict(\n",
    "        scope = 'north america',\n",
    "        showland = True,\n",
    "        #landcolor = \"rgb(212, 212, 212)\",\n",
    "        landcolor = \"rgb(255, 255, 255)\",\n",
    "        subunitcolor = \"rgb(0, 0, 0)\",\n",
    "        countrycolor = \"rgb(255, 255, 255)\",\n",
    "        showlakes = False,\n",
    "        lakecolor = \"rgb(255, 255, 255)\",\n",
    "        showsubunits = True,\n",
    "        showcountries = True,\n",
    "        resolution = 50,\n",
    "        projection = dict(\n",
    "            type = 'conic conformal',\n",
    "            rotation_lon = -100\n",
    "        ),\n",
    "        lonaxis = dict(\n",
    "            showgrid = True,\n",
    "            gridwidth = 0.5,\n",
    "            range= [ -140.0, -55.0 ],\n",
    "            dtick = 5\n",
    "        ),\n",
    "        lataxis = dict (\n",
    "            showgrid = True,\n",
    "            gridwidth = 0.5,\n",
    "            range= [ 20.0, 60.0 ],\n",
    "            dtick = 5\n",
    "        )\n",
    "    ),\n",
    "    title='Cybera Member locations',\n",
    "    height=600,\n",
    "    width=600,\n",
    "    margin={\"r\":0,\"t\":0,\"l\":0,\"b\":0}\n",
    ")\n",
    "fig0.update_geos(lataxis_range=[48,61],\n",
    "               lonaxis_range=[-120,-110])\n",
    "print('Original member map')\n",
    "fig0.show()\n",
    "#fig.write_html('membermap.html')"
   ]
  },
  {
   "cell_type": "code",
   "execution_count": null,
   "id": "7b736b14",
   "metadata": {},
   "outputs": [],
   "source": [
    "fig3 = go.Figure(data=go.Scattergeo(\n",
    "    lat = updated_cities['Latitude'],\n",
    "    lon = updated_cities['Longitude'],\n",
    "    text = updated_cities['Name']\n",
    ")\n",
    "               )\n",
    "\n",
    "fig3.update_layout(\n",
    "    geo = dict(\n",
    "        scope = 'north america',\n",
    "        showland = True,\n",
    "        #landcolor = \"rgb(212, 212, 212)\",\n",
    "        landcolor = \"rgb(255, 255, 255)\",\n",
    "        subunitcolor = \"rgb(0, 0, 0)\",\n",
    "        countrycolor = \"rgb(255, 255, 255)\",\n",
    "        showlakes = False,\n",
    "        lakecolor = \"rgb(255, 255, 255)\",\n",
    "        showsubunits = True,\n",
    "        showcountries = True,\n",
    "        resolution = 50,\n",
    "        projection = dict(\n",
    "            type = 'conic conformal',\n",
    "            rotation_lon = -100\n",
    "        ),\n",
    "        lonaxis = dict(\n",
    "            showgrid = True,\n",
    "            gridwidth = 0.5,\n",
    "            range= [ -140.0, -55.0 ],\n",
    "            dtick = 5\n",
    "        ),\n",
    "        lataxis = dict (\n",
    "            showgrid = True,\n",
    "            gridwidth = 0.5,\n",
    "            range= [ 20.0, 60.0 ],\n",
    "            dtick = 5\n",
    "        )\n",
    "    ),\n",
    "    title='Cybera Member locations',\n",
    "    height=600,\n",
    "    width=600,\n",
    "    margin={\"r\":0,\"t\":0,\"l\":0,\"b\":0}\n",
    ")\n",
    "fig3.update_geos(lataxis_range=[48,61],\n",
    "               lonaxis_range=[-120,-110])\n",
    "print('Updated member map')\n",
    "fig3.show()\n",
    "#fig3.write_html('membermap.html')"
   ]
  },
  {
   "cell_type": "code",
   "execution_count": null,
   "id": "28990f21",
   "metadata": {},
   "outputs": [],
   "source": [
    "#!pip install kaleido\n",
    "#fig3.write_image('membermap.svg')"
   ]
  },
  {
   "attachments": {},
   "cell_type": "markdown",
   "id": "c7fa29cc",
   "metadata": {},
   "source": [
    "## The order that the LEDs are connected in"
   ]
  },
  {
   "cell_type": "code",
   "execution_count": null,
   "id": "4f88db38",
   "metadata": {},
   "outputs": [],
   "source": [
    "import pandas as pd\n",
    "import plotly.express as px\n",
    "\n",
    "updated_cities = pd.read_csv('data/updated_cities.csv')\n",
    "#px.line(updated_cities.sort_values(by='Latitude'), y='Latitude', x='Longitude', hover_name='Name', height=1000, width=650).update_traces(mode='markers+lines', marker=dict(size=10))\n",
    "px.line(updated_cities, y='Latitude', x='Longitude', hover_name='Name', height=1000, width=650).update_traces(mode='markers+lines', marker=dict(size=10))"
   ]
  },
  {
   "attachments": {},
   "cell_type": "markdown",
   "id": "539e0abb",
   "metadata": {},
   "source": [
    "### Reversed mode for labelling the back of the wood"
   ]
  },
  {
   "cell_type": "code",
   "execution_count": null,
   "id": "ce1aa847",
   "metadata": {},
   "outputs": [],
   "source": [
    "import pandas as pd\n",
    "import plotly.express as px\n",
    "\n",
    "updated_cities = pd.read_csv('data/updated_cities.csv')\n",
    "updated_cities['Longitude_reversed'] = updated_cities['Longitude'] * -1\n",
    "fig = px.line(updated_cities, y='Latitude', x='Longitude_reversed', height=1000, width=650)\n",
    "fig.add_scatter(y=updated_cities['Latitude'], x=updated_cities['Longitude_reversed'], text=updated_cities['Name'], mode='markers+text', textposition='middle right', marker=dict(size=10))\n",
    "fig.add_scatter(y=updated_cities['Latitude'], x=updated_cities['Longitude_reversed'], text=updated_cities.index, mode='markers+text', textposition='bottom left', marker=dict(size=10))\n",
    "fig.update_xaxes(showticklabels=False)\n",
    "fig.update_yaxes(showticklabels=False)\n",
    "fig.update_layout(plot_bgcolor='rgba(0,0,0,0)')\n",
    "fig.update_xaxes(title=None)\n",
    "fig.update_yaxes(title=None)\n",
    "fig.update_layout(showlegend=False)\n",
    "fig.update_layout(margin=dict(l=0, r=0, t=0, b=0))\n",
    "fig.show()"
   ]
  }
 ],
 "metadata": {
  "kernelspec": {
   "display_name": "Python 3",
   "language": "python",
   "name": "python3"
  },
  "language_info": {
   "codemirror_mode": {
    "name": "ipython",
    "version": 3
   },
   "file_extension": ".py",
   "mimetype": "text/x-python",
   "name": "python",
   "nbconvert_exporter": "python",
   "pygments_lexer": "ipython3",
   "version": "3.10.1"
  },
  "vscode": {
   "interpreter": {
    "hash": "916dbcbb3f70747c44a77c7bcd40155683ae19c65e1c03b4aa3499c5328201f1"
   }
  }
 },
 "nbformat": 4,
 "nbformat_minor": 5
}
