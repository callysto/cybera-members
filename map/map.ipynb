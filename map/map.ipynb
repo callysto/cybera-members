{
 "cells": [
  {
   "cell_type": "code",
   "execution_count": null,
   "id": "60dacd93-713c-48c4-a170-df37179f053f",
   "metadata": {},
   "outputs": [],
   "source": [
    "import geopandas\n",
    "import pandas as pd\n",
    "import pgeocode\n",
    "import plotly.graph_objects as go\n",
    "nomi = pgeocode.Nominatim('ca')\n",
    "import numpy as np\n",
    "import folium"
   ]
  },
  {
   "cell_type": "code",
   "execution_count": null,
   "id": "5e5ca7aa-22c8-4028-aec5-b6eabcfb3fb3",
   "metadata": {},
   "outputs": [],
   "source": [
    "distances = pd.read_csv('data/Connected member addresses for network map November 2022 - Sheet1.csv', header=None, \n",
    "                   names=['Member', 'Address', 'City', 'Postal Code'])\n",
    "distances.iloc[56]['Postal Code'] = 'T0L 0Z0' # Someone entered this wihout a space\n",
    "distances.drop([36, 38], axis=0, inplace=True) # Centers in Germany and France\n",
    "distances"
   ]
  },
  {
   "cell_type": "code",
   "execution_count": null,
   "id": "383c1dac-72b4-48c7-898b-d26870e2774e",
   "metadata": {},
   "outputs": [],
   "source": [
    "lats = []\n",
    "lons = []\n",
    "for i in distances['Postal Code']:\n",
    "    location = nomi.query_postal_code(i)\n",
    "    lats.append(location['latitude'])\n",
    "    lons.append(location['longitude'])\n",
    "distances['lat'] = lats\n",
    "distances['lon'] = lons\n",
    "distances['geometry'] = geopandas.points_from_xy(distances['lat'], distances['lon'])\n",
    "distances.sort_values(by='lat', inplace=True)\n",
    "distances"
   ]
  },
  {
   "cell_type": "code",
   "execution_count": null,
   "id": "f78d2068",
   "metadata": {},
   "outputs": [],
   "source": [
    "distances[distances['Member'].str.contains('Albert')]"
   ]
  },
  {
   "cell_type": "code",
   "execution_count": null,
   "id": "867fb1f2-b858-474a-a3c6-169fe80e74f4",
   "metadata": {},
   "outputs": [],
   "source": [
    "fig0 = go.Figure(data=go.Scattergeo(\n",
    "    lat = distances['lat'],\n",
    "    lon = distances['lon'],\n",
    "    text = distances['Member']\n",
    ")\n",
    "               )\n",
    "\n",
    "fig0.update_layout(\n",
    "    geo = dict(\n",
    "        scope = 'north america',\n",
    "        showland = True,\n",
    "        #landcolor = \"rgb(212, 212, 212)\",\n",
    "        landcolor = \"rgb(255, 255, 255)\",\n",
    "        subunitcolor = \"rgb(0, 0, 0)\",\n",
    "        countrycolor = \"rgb(255, 255, 255)\",\n",
    "        showlakes = False,\n",
    "        lakecolor = \"rgb(255, 255, 255)\",\n",
    "        showsubunits = True,\n",
    "        showcountries = True,\n",
    "        resolution = 50,\n",
    "        projection = dict(\n",
    "            type = 'conic conformal',\n",
    "            rotation_lon = -100\n",
    "        ),\n",
    "        lonaxis = dict(\n",
    "            showgrid = True,\n",
    "            gridwidth = 0.5,\n",
    "            range= [ -140.0, -55.0 ],\n",
    "            dtick = 5\n",
    "        ),\n",
    "        lataxis = dict (\n",
    "            showgrid = True,\n",
    "            gridwidth = 0.5,\n",
    "            range= [ 20.0, 60.0 ],\n",
    "            dtick = 5\n",
    "        )\n",
    "    ),\n",
    "    title='Cybera Member locations',\n",
    "    height=600,\n",
    "    width=600,\n",
    "    margin={\"r\":0,\"t\":0,\"l\":0,\"b\":0}\n",
    ")\n",
    "fig0.update_geos(lataxis_range=[48,61],\n",
    "               lonaxis_range=[-120,-110])\n",
    "fig0.show()\n",
    "#fig.write_html('membermap.html')"
   ]
  },
  {
   "cell_type": "code",
   "execution_count": null,
   "id": "28990f21",
   "metadata": {},
   "outputs": [],
   "source": [
    "#!pip install kaleido\n",
    "#fig0.write_image('membermap.svg')"
   ]
  },
  {
   "attachments": {},
   "cell_type": "markdown",
   "id": "862080c0",
   "metadata": {},
   "source": [
    "## Grouping dots together"
   ]
  },
  {
   "cell_type": "code",
   "execution_count": null,
   "id": "2b8851e7",
   "metadata": {},
   "outputs": [],
   "source": [
    "def getCityLocation(city):\n",
    "    location = nomi.query_location(city)\n",
    "    return location['latitude'].mean(), location['longitude'].mean()\n",
    "\n",
    "cities_data = pd.read_html('https://en.wikipedia.org/wiki/List_of_cities_in_Alberta')[0]\n",
    "cities = cities_data['Name'].copy()\n",
    "cities.drop(cities.tail(1).index,inplace=True) # drop the last row\n",
    "cities.loc[len(cities)] = 'Fort McMurray' # add Fort McMurray\n",
    "cities['Name'] = cities['Name'].str.split('[').str[0].str.split('(').str[0].str.strip()\n",
    "cities['Coordinates'] = cities['Name'].apply(getCityLocation)\n",
    "cities['Latitude'] = cities['Coordinates'].str[0]\n",
    "cities['Longitude'] = cities['Coordinates'].str[1]\n",
    "cities"
   ]
  },
  {
   "cell_type": "code",
   "execution_count": null,
   "id": "f650681f",
   "metadata": {},
   "outputs": [],
   "source": [
    "cities_list = ['Banff','Calgary','Edmonton','Fort McMurray','Grande Prairie','Lethbridge','Lloydminster','Medicine Hat','Red Deer']"
   ]
  },
  {
   "cell_type": "code",
   "execution_count": null,
   "id": "d30f70cc",
   "metadata": {},
   "outputs": [],
   "source": [
    "# folium map of cities\n",
    "map = folium.Map(location=[cities['Latitude'].mean(), cities['Longitude'].mean()], zoom_start=5)\n",
    "for i in range(0,len(cities)):\n",
    "    folium.Marker([cities.iloc[i]['Latitude'], cities.iloc[i]['Longitude']], popup=cities.iloc[i]['Name']).add_to(map)\n",
    "map"
   ]
  },
  {
   "cell_type": "code",
   "execution_count": null,
   "id": "7ac0d5b8",
   "metadata": {},
   "outputs": [],
   "source": [
    "try:\n",
    "    import haversine as hs\n",
    "except:\n",
    "    !pip install --user haversine\n",
    "    import haversine as hs\n",
    "\n",
    "# Calculate the distance between each member\n",
    "distances_list = []\n",
    "for i in range(len(distances)):\n",
    "    for j in range(i+1, len(distances)):\n",
    "        distances_list.append([distances.iloc[i]['Member'], distances.iloc[j]['Member'], \n",
    "                          hs.haversine((distances.iloc[i]['lat'], distances.iloc[i]['lon']), \n",
    "                                       (distances.iloc[j]['lat'], distances.iloc[j]['lon']))])\n",
    "\n",
    "# add a row for the last member to the first member\n",
    "distances_list.append([distances.iloc[-1]['Member'], distances.iloc[0]['Member'], hs.haversine((distances.iloc[-1]['lat'], distances.iloc[-1]['lon']), (distances.iloc[0]['lat'], distances.iloc[0]['lon']))])\n",
    "\n",
    "distances_between = pd.DataFrame(distances_list, columns=['Member', 'Member2', 'Distance'])\n",
    "\n",
    "# join the latitude and longitude of each member to the distances\n",
    "distances_between = distances_between.merge(distances[['Member', 'lat', 'lon']], left_on='Member', right_on='Member', how='left')\n",
    "distances_between"
   ]
  },
  {
   "cell_type": "code",
   "execution_count": null,
   "id": "dc9b1da0",
   "metadata": {},
   "outputs": [],
   "source": [
    "# for each member create a list of the other members that are within 100 km\n",
    "\n",
    "def findNeighbours(m):\n",
    "    return [m] + distances_between[(distances_between['Member'] == m) & (distances_between['Distance'] < 100)]['Member2'].values.tolist()\n",
    "\n",
    "distances_between['Neighbours'] = distances_between['Member'].apply(findNeighbours)\n",
    "distances_between"
   ]
  },
  {
   "cell_type": "code",
   "execution_count": null,
   "id": "c0e9400b",
   "metadata": {},
   "outputs": [],
   "source": [
    "import numpy as np\n",
    "\n",
    "def createRectangle(neighbours):\n",
    "    latList = []\n",
    "    lonList = []\n",
    "    for place in neighbours:\n",
    "        #print(place)\n",
    "        latList.append(distances_between[distances_between['Member'] == place]['lat'].values[0])\n",
    "        lonList.append(distances_between[distances_between['Member'] == place]['lon'].values[0])\n",
    "    return [np.max(latList), np.min(latList), np.max(lonList), np.min(lonList)]\n",
    "\n",
    "def findLatMidpoint(neighbours):\n",
    "    latList = []\n",
    "    for place in neighbours:\n",
    "        latList.append(distances_between[distances_between['Member'] == place]['lat'].values[0])\n",
    "    return np.mean(latList)\n",
    "\n",
    "def findLonMidpoint(neighbours):\n",
    "    lonList = []\n",
    "    for place in neighbours:\n",
    "        lonList.append(distances_between[distances_between['Member'] == place]['lon'].values[0])\n",
    "    return np.mean(lonList)\n",
    "\n",
    "#distances_between['Rectangle'] = distances_between['Neighbours'].apply(createRectangle)\n",
    "#distances_between[['Midpoint Lat','Midpoint Lon']] = distances_between['Neighbours'].apply(findMidpoint)\n",
    "#distances_between['Midpoint Lat'], distances_between['Midpoint Lon'] = distances_between['Neighbours'].apply(findMidpoint) #findMidpoint(distances_between['Neighbours'])\n",
    "\n",
    "distances_between['Midpoint Lat'] = distances_between['Neighbours'].apply(findLatMidpoint)\n",
    "distances_between['Midpoint Lon'] = distances_between['Neighbours'].apply(findLonMidpoint)\n",
    "\n",
    "print('There are now {} unique points'.format(len(distances_between['Midpoint Lat'].unique())))\n",
    "\n",
    "distances_between"
   ]
  },
  {
   "cell_type": "code",
   "execution_count": null,
   "id": "e7df6ab7",
   "metadata": {},
   "outputs": [],
   "source": [
    "median_latitude = distances_between['lat'].median()\n",
    "median_longitude = distances_between['lon'].median()\n",
    "new_map = folium.Map(location=[median_latitude, median_longitude], zoom_start=6, tiles='stamen terrain')\n",
    "for i in distances_between.itertuples():\n",
    "    folium.Marker([i.lat, i.lon], popup=i.Member).add_to(new_map)\n",
    "display(new_map)"
   ]
  },
  {
   "attachments": {},
   "cell_type": "markdown",
   "id": "8d7584aa",
   "metadata": {},
   "source": [
    "### Try different size rectangles"
   ]
  },
  {
   "cell_type": "code",
   "execution_count": null,
   "id": "c0ece443",
   "metadata": {},
   "outputs": [],
   "source": [
    "separation_distance = 200\n",
    "\n",
    "def findNeighbours(m):\n",
    "    return [m] + distances_between[(distances_between['Member'] == m) & (distances_between['Distance'] < separation_distance)]['Member2'].values.tolist()\n",
    "\n",
    "distances_between['Neighbours'] = distances_between['Member'].apply(findNeighbours)\n",
    "\n",
    "import numpy as np\n",
    "\n",
    "def findLatMidpoint(neighbours):\n",
    "    latList = []\n",
    "    for place in neighbours:\n",
    "        latList.append(distances_between[distances_between['Member'] == place]['lat'].values[0])\n",
    "    return np.mean(latList)\n",
    "\n",
    "def findLonMidpoint(neighbours):\n",
    "    lonList = []\n",
    "    for place in neighbours:\n",
    "        lonList.append(distances_between[distances_between['Member'] == place]['lon'].values[0])\n",
    "    return np.mean(lonList)\n",
    "\n",
    "distances_between['Midpoint Lat'] = distances_between['Neighbours'].apply(findLatMidpoint)\n",
    "distances_between['Midpoint Lon'] = distances_between['Neighbours'].apply(findLonMidpoint)\n",
    "\n",
    "print('There are now {} unique points'.format(len(distances_between['Midpoint Lat'].unique())))"
   ]
  },
  {
   "cell_type": "code",
   "execution_count": null,
   "id": "cddb14aa",
   "metadata": {},
   "outputs": [],
   "source": [
    "# this will only work if they are sorted, but it's not great\n",
    "# we should elimilate one of the two members in a pair that is too close\n",
    "# but there are lots of groups that are three or more members close together\n",
    "\n",
    "separation_distance = 150\n",
    "\n",
    "previous_row = None\n",
    "rows_to_remove = []\n",
    "for row in distances.sort_values(by='lat').itertuples():\n",
    "    #print(row.Member, row.lat, row.lon)\n",
    "    if previous_row is not None:\n",
    "        #print(previous_row.Member, row.Member, \n",
    "        d = hs.haversine((previous_row.lat, previous_row.lon), (row.lat, row.lon))\n",
    "        if d < separation_distance:\n",
    "            #print('remove row', row.Index)\n",
    "            rows_to_remove.append(row.Index)\n",
    "    previous_row = row\n",
    "filtered_distances = distances.drop(rows_to_remove, axis=0)\n",
    "import folium\n",
    "#from folium.plugins import FastMarkerCluster\n",
    "median_latitude = filtered_distances['lat'].median()\n",
    "median_longitude = filtered_distances['lon'].median()\n",
    "new_map = folium.Map(location=[median_latitude, median_longitude], zoom_start=6, tiles='stamen terrain')\n",
    "#new_map.add_child(FastMarkerCluster(filtered_distances[['lat','lon']].values.tolist()))\n",
    "for i in filtered_distances.itertuples():\n",
    "    folium.Marker([i.lat, i.lon], popup=i.Member).add_to(new_map)\n",
    "display(new_map)"
   ]
  },
  {
   "cell_type": "code",
   "execution_count": null,
   "id": "70429d4c",
   "metadata": {},
   "outputs": [],
   "source": [
    "len(distances_list[distances_list['Distance'] < 20].sort_values('Distance')['Member1'].unique())"
   ]
  },
  {
   "cell_type": "code",
   "execution_count": null,
   "id": "ed597064",
   "metadata": {},
   "outputs": [],
   "source": [
    "# map the members that are close to each other\n",
    "distances_list['Member 1 Lat'] = distances_list['Member1'].map(distances_list.set_index('Member')['lat'])\n",
    "distances_list['Member 1 Lon'] = distances_list['Member1'].map(distances_list.set_index('Member')['lon'])\n",
    "distances_list"
   ]
  },
  {
   "cell_type": "code",
   "execution_count": null,
   "id": "f1509899",
   "metadata": {},
   "outputs": [],
   "source": [
    "distances_list[(distances_list['Member1']=='Alberta Conference SDA Church') & (distances_list['Member2']=='Alberta Conference SDA Church')]"
   ]
  },
  {
   "cell_type": "code",
   "execution_count": null,
   "id": "40a5eae2",
   "metadata": {},
   "outputs": [],
   "source": [
    "fig0 = go.Figure(data=go.Scattergeo(\n",
    "    lat = distances_list['Member 1 Lat'],\n",
    "    lon = distances_list['Member 1 Lon'],\n",
    "    text = distances_list['Member1']\n",
    ")\n",
    "               )\n",
    "\n",
    "fig0.update_layout(\n",
    "    geo = dict(\n",
    "        scope = 'north america',\n",
    "        showland = True,\n",
    "        #landcolor = \"rgb(212, 212, 212)\",\n",
    "        landcolor = \"rgb(255, 255, 255)\",\n",
    "        subunitcolor = \"rgb(0, 0, 0)\",\n",
    "        countrycolor = \"rgb(255, 255, 255)\",\n",
    "        showlakes = False,\n",
    "        lakecolor = \"rgb(255, 255, 255)\",\n",
    "        showsubunits = True,\n",
    "        showcountries = True,\n",
    "        resolution = 50,\n",
    "        projection = dict(\n",
    "            type = 'conic conformal',\n",
    "            rotation_lon = -100\n",
    "        ),\n",
    "        lonaxis = dict(\n",
    "            showgrid = True,\n",
    "            gridwidth = 0.5,\n",
    "            range= [ -140.0, -55.0 ],\n",
    "            dtick = 5\n",
    "        ),\n",
    "        lataxis = dict (\n",
    "            showgrid = True,\n",
    "            gridwidth = 0.5,\n",
    "            range= [ 20.0, 60.0 ],\n",
    "            dtick = 5\n",
    "        )\n",
    "    ),\n",
    "    title='Cybera Member locations',\n",
    "    height=600,\n",
    "    width=600,\n",
    "    margin={\"r\":0,\"t\":0,\"l\":0,\"b\":0}\n",
    ")\n",
    "fig0.update_geos(lataxis_range=[48,61],\n",
    "               lonaxis_range=[-120,-110])\n",
    "fig0.show()"
   ]
  },
  {
   "attachments": {},
   "cell_type": "markdown",
   "id": "b9d60158",
   "metadata": {},
   "source": [
    "## Finding scale distances on a 4x8 sheet of plywood"
   ]
  },
  {
   "cell_type": "code",
   "execution_count": null,
   "id": "24a55e79",
   "metadata": {},
   "outputs": [],
   "source": [
    "x_range = [distances_list['lon'].max(), distances_list['lon'].min()]\n",
    "y_range = [distances_list['lat'].max(), distances_list['lat'].min()]\n",
    "distances_list['x'] = (distances_list['lon'] - x_range[1]) / (x_range[0] - x_range[1])\n",
    "distances_list['y'] = (distances_list['lat'] - y_range[1]) / (y_range[0] - y_range[1])\n",
    "distances_list['x inches'] = distances_list['x'] * 46\n",
    "distances_list['y inches'] = distances_list['y'] * 46\n",
    "distances_list"
   ]
  },
  {
   "cell_type": "code",
   "execution_count": null,
   "id": "ef57c5cb",
   "metadata": {},
   "outputs": [],
   "source": [
    "import plotly.express as px\n",
    "fig2 = px.scatter(distances_list, x='x inches', y='y inches', hover_name='Member', hover_data=['Address', 'City', 'Postal Code'], height=800, width=400)\n",
    "fig2.update_xaxes(range=[0, 48])\n",
    "fig2.update_yaxes(range=[0, 96])\n",
    "fig2.show()\n",
    "fig0.show()"
   ]
  }
 ],
 "metadata": {
  "kernelspec": {
   "display_name": "Python 3",
   "language": "python",
   "name": "python3"
  },
  "language_info": {
   "codemirror_mode": {
    "name": "ipython",
    "version": 3
   },
   "file_extension": ".py",
   "mimetype": "text/x-python",
   "name": "python",
   "nbconvert_exporter": "python",
   "pygments_lexer": "ipython3",
   "version": "3.10.1"
  },
  "vscode": {
   "interpreter": {
    "hash": "d1ca6d17674200220921376aaeb3d36cffe15ecab2470a9a5e7a456cdbf61425"
   }
  }
 },
 "nbformat": 4,
 "nbformat_minor": 5
}
