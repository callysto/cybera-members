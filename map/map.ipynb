{
 "cells": [
  {
   "cell_type": "markdown",
   "id": "e46af256",
   "metadata": {},
   "source": [
    "# Mapping Cybera Members"
   ]
  },
  {
   "cell_type": "code",
   "execution_count": null,
   "id": "60dacd93-713c-48c4-a170-df37179f053f",
   "metadata": {},
   "outputs": [],
   "source": [
    "import pandas as pd\n",
    "#import geopandas\n",
    "#import pgeocode\n",
    "#nomi = pgeocode.Nominatim('ca')\n",
    "import plotly.graph_objects as go\n",
    "import plotly.express as px\n",
    "import numpy as np\n",
    "import folium\n",
    "try:\n",
    "    import haversine as hs\n",
    "except:\n",
    "    !pip install --user haversine\n",
    "    import haversine as hs\n",
    "try:\n",
    "    import pynetbox\n",
    "except:\n",
    "    !pip install --user pynetbox==6.6.2\n",
    "    import pynetbox\n",
    "print('Libraries imported')"
   ]
  },
  {
   "cell_type": "markdown",
   "id": "ccf78111",
   "metadata": {},
   "source": [
    "## Getting Member Locations\n",
    "\n",
    "Using the [Netbox](https://github.com/netbox-community/pynetbox) API, which equires a token, this must be run from on the Cybera network."
   ]
  },
  {
   "cell_type": "code",
   "execution_count": null,
   "id": "8a3b1a60",
   "metadata": {},
   "outputs": [],
   "source": [
    "NETBOX_API_KEY = ''\n",
    "\n",
    "try:\n",
    "    nb = pynetbox.api('https://netbox.cybera.ca', token=NETBOX_API_KEY)\n",
    "    sites = nb.dcim.sites\n",
    "    locations = []\n",
    "    for site in sites.all():\n",
    "        locations.append([site.url.split('/')[6], site, site.latitude, site.longitude, site.physical_address])\n",
    "    df = pd.DataFrame(locations, columns=['ID', 'Site', 'Latitude', 'Longitude', 'Address'])\n",
    "    df.to_csv('data/cybera-members.csv', index=False)\n",
    "except:\n",
    "    df = pd.read_csv('data/cybera-members.csv')\n",
    "display(df)"
   ]
  },
  {
   "cell_type": "markdown",
   "id": "fffcd932",
   "metadata": {},
   "source": [
    "Drop any NaN values"
   ]
  },
  {
   "cell_type": "code",
   "execution_count": null,
   "id": "b4f9a66c",
   "metadata": {},
   "outputs": [],
   "source": [
    "df = df.dropna()\n",
    "df = df.reset_index(drop=True)\n",
    "df"
   ]
  },
  {
   "cell_type": "markdown",
   "id": "7d5b6a3c",
   "metadata": {},
   "source": [
    "Create a Folium map"
   ]
  },
  {
   "cell_type": "code",
   "execution_count": null,
   "id": "5cb093f3",
   "metadata": {},
   "outputs": [],
   "source": [
    "locations_map = folium.Map(location=[df['Latitude'].mean(), df['Longitude'].mean()], zoom_start=5)\n",
    "for i in range(0,len(df)):\n",
    "    folium.Marker([df.iloc[i]['Latitude'], df.iloc[i]['Longitude']], popup=df.iloc[i]['Site']).add_to(locations_map)\n",
    "locations_map"
   ]
  },
  {
   "cell_type": "markdown",
   "id": "ffb94c14",
   "metadata": {},
   "source": [
    "Which unique cities are there now?"
   ]
  },
  {
   "cell_type": "code",
   "execution_count": null,
   "id": "249741b6",
   "metadata": {},
   "outputs": [],
   "source": [
    "print(len(df['City'].unique()))\n",
    "df['City'].unique()"
   ]
  },
  {
   "cell_type": "markdown",
   "id": "5345e5a1",
   "metadata": {},
   "source": [
    "Sort values by latitude and calculate the distance to the next location."
   ]
  },
  {
   "cell_type": "code",
   "execution_count": null,
   "id": "f78d2068",
   "metadata": {},
   "outputs": [],
   "source": [
    "df = df.sort_values(by='Latitude')\n",
    "df.reset_index(inplace=True, drop=True)\n",
    "\n",
    "distances_list = []\n",
    "for i in range(len(df)):\n",
    "    distances_list.append([df.iloc[i]['City'], df.iloc[i]['Site'], df.iloc[i-1]['Site'], \n",
    "                      hs.haversine((df.iloc[i]['Latitude'], df.iloc[i]['Longitude']), \n",
    "                                   (df.iloc[i-1]['Latitude'], df.iloc[i-1]['Longitude']))])\n",
    "dbc = pd.DataFrame(distances_list, columns=['City', 'Site', 'Next Site', 'Distance'])\n",
    "dbc"
   ]
  },
  {
   "cell_type": "markdown",
   "id": "b808da78",
   "metadata": {},
   "source": [
    "Which locations are close together?"
   ]
  },
  {
   "cell_type": "code",
   "execution_count": null,
   "id": "b5807dd7",
   "metadata": {},
   "outputs": [],
   "source": [
    "close_distance = 75\n",
    "display(dbc[dbc['Distance'] < close_distance])"
   ]
  },
  {
   "cell_type": "markdown",
   "id": "313a70c3",
   "metadata": {},
   "source": [
    "Replace smaller cities with nearby larger city"
   ]
  },
  {
   "cell_type": "code",
   "execution_count": null,
   "id": "4033e7c5",
   "metadata": {},
   "outputs": [],
   "source": [
    "cities_to_replace = {\n",
    "    'Taber':'Lethbridge',\n",
    "    'Dunmore':'Medicine Hat',\n",
    "    'Morley':'Canmore',\n",
    "    'Banff':'Canmore',\n",
    "    'Ponoka':'Lacombe',\n",
    "    'Wetaskiwin':'Camrose',\n",
    "    'Leduc':'Edmonton',\n",
    "    'Nisku':'Edmonton',\n",
    "    'Spruce Grove':'Edmonton',\n",
    "    'Stony Plain':'Edmonton',\n",
    "    'St. Albert':'Edmonton',\n",
    "    'Morinville':'Edmonton',\n",
    "    'Elk Point':'Lac La Biche',\n",
    "    'Grouard':'High Prairie',\n",
    "    'Red Earth Creek':'High Prairie',\n",
    "    'Grimshaw':'Peace River',\n",
    "    'Innisfail':'Olds',\n",
    "    'Three Hills':'Olds',\n",
    "    'Frog Lake':'Bonnyville',\n",
    "}\n",
    "\n",
    "df['PixelName'] = df['City'].replace(cities_to_replace)\n",
    "df"
   ]
  },
  {
   "cell_type": "code",
   "execution_count": null,
   "id": "b13f88c0",
   "metadata": {},
   "outputs": [],
   "source": [
    "print(len(df['PixelName'].unique()))\n",
    "df['PixelName'].unique()"
   ]
  },
  {
   "cell_type": "markdown",
   "id": "8d24f2f9",
   "metadata": {},
   "source": [
    "Make a new map with just the larger cities."
   ]
  },
  {
   "cell_type": "code",
   "execution_count": null,
   "id": "a76115e6",
   "metadata": {},
   "outputs": [],
   "source": [
    "new_map = folium.Map(location=[df['Latitude'].mean(), df['Longitude'].mean()], zoom_start=5)\n",
    "for city in df['PixelName'].unique():\n",
    "    lat = df[df['City']==city]['Latitude'].mean()\n",
    "    lon = df[df['City']==city]['Longitude'].mean()\n",
    "    folium.Marker([lat, lon], popup=city).add_to(new_map)\n",
    "\n",
    "original_map_cities = pd.read_csv('data/original_map_cities.csv')\n",
    "for row in original_map_cities.iterrows():\n",
    "    folium.CircleMarker(location=[row[1]['Latitude'], row[1]['Longitude']], popup=row[1]['Name'], radius=5, color='red').add_to(new_map)\n",
    "new_map"
   ]
  },
  {
   "cell_type": "markdown",
   "id": "1a68c4a4",
   "metadata": {},
   "source": [
    "Looks like Draton Valley and Slave Lake were missing in the original dataset. We'll have to fix that by adding two more pixels."
   ]
  },
  {
   "cell_type": "markdown",
   "id": "dadb6b13",
   "metadata": {},
   "source": [
    "Create a pixels dataframe from south to north, since that's how the pixels are wired.\n",
    "\n",
    "Also correct the latitude and longitude for Edmonton and Calgary, since we were just using the mean values including nearby cities."
   ]
  },
  {
   "cell_type": "code",
   "execution_count": null,
   "id": "22c1b77b",
   "metadata": {},
   "outputs": [],
   "source": [
    "pixels = pd.DataFrame()\n",
    "pixels['City'] = list(df['PixelName'].unique())\n",
    "lats = []\n",
    "lons = []\n",
    "for i in range(len(pixels)):\n",
    "    lats.append(df[df['PixelName']==pixels.iloc[i]['City']].iloc[0]['Latitude'])\n",
    "    lons.append(df[df['PixelName']==pixels.iloc[i]['City']].iloc[0]['Longitude'])\n",
    "pixels['Latitude'] = lats\n",
    "pixels['Longitude'] = lons\n",
    "\n",
    "pixels.loc[pixels['City']=='Edmonton', 'Latitude'] = 53.5444\n",
    "pixels.loc[pixels['City']=='Edmonton', 'Longitude'] = -113.4909\n",
    "pixels.loc[pixels['City']=='Calgary', 'Latitude'] = 51.0486\n",
    "pixels.loc[pixels['City']=='Calgary', 'Longitude'] = -114.0708\n",
    "\n",
    "pixels = pixels.sort_values('Latitude').reset_index(drop=True)\n",
    "pixels['Pixel'] = pixels.index\n",
    "pixels"
   ]
  },
  {
   "cell_type": "markdown",
   "id": "f75f41b5",
   "metadata": {},
   "source": [
    "Make a column in the df for which pixel represents that location."
   ]
  },
  {
   "cell_type": "code",
   "execution_count": null,
   "id": "2eea5759",
   "metadata": {},
   "outputs": [],
   "source": [
    "df2 = pd.merge(df, pixels, left_on='PixelName', right_on='City', how='left')\n",
    "df2 = df2[df2.columns.drop(list(df2.filter(regex='_y')))]  # drop the _y columns\n",
    "df2 = df2.rename(columns={'Latitude_x':'Latitude', 'Longitude_x':'Longitude', 'City_x': 'City'})\n",
    "df2"
   ]
  },
  {
   "cell_type": "markdown",
   "id": "19143745",
   "metadata": {},
   "source": [
    "Export `df2` to a new CSV file."
   ]
  },
  {
   "cell_type": "code",
   "execution_count": null,
   "id": "78dd501f",
   "metadata": {},
   "outputs": [],
   "source": [
    "df2.to_csv('data/cybera-members-collated.csv', index=False)"
   ]
  },
  {
   "cell_type": "markdown",
   "id": "ee798a4e",
   "metadata": {},
   "source": [
    "Add a column to the pixels dataframe with pixel colors representing how many Cybera members are represented by a pixel."
   ]
  },
  {
   "cell_type": "code",
   "execution_count": null,
   "id": "b2c69994",
   "metadata": {},
   "outputs": [],
   "source": [
    "counts = pd.DataFrame(df.groupby('PixelName')['PixelName'].count())\n",
    "counts.columns = ['Count']  # rename the column\n",
    "counts = counts.reset_index()  # flaten the dataframe\n",
    "pixels = pd.merge(pixels, counts, left_on='City', right_on='PixelName').drop('PixelName', axis=1)  # merge pixels with counts\n",
    "pixels"
   ]
  },
  {
   "cell_type": "code",
   "execution_count": null,
   "id": "c953ab01",
   "metadata": {},
   "outputs": [],
   "source": [
    "def map_color(n, max_n=30):\n",
    "    start_color = (249, 157, 42)\n",
    "    end_color = (0, 168, 183)\n",
    "    r = int(start_color[0] + (end_color[0] - start_color[0]) * n / max_n)\n",
    "    g = int(start_color[1] + (end_color[1] - start_color[1]) * n / max_n)\n",
    "    b = int(start_color[2] + (end_color[2] - start_color[2]) * n / max_n)\n",
    "    return (r, g, b)\n",
    "\n",
    "pixels['Color'] = pixels['Count'].apply(map_color)\n",
    "pixels"
   ]
  },
  {
   "cell_type": "markdown",
   "id": "6c2b8cfa",
   "metadata": {},
   "source": [
    "Output a `status.csv` file for micropython to download."
   ]
  },
  {
   "cell_type": "code",
   "execution_count": null,
   "id": "6cd4fdf5",
   "metadata": {},
   "outputs": [],
   "source": [
    "status = pd.DataFrame(pixels['Color'].tolist()).reset_index()\n",
    "status.columns = columns=['LED', 'Red', 'Green', 'Blue']\n",
    "status.to_csv('../docs/status.csv', index=False)\n",
    "status"
   ]
  },
  {
   "cell_type": "markdown",
   "id": "04e21dd1",
   "metadata": {},
   "source": [
    "Display the colors"
   ]
  },
  {
   "cell_type": "code",
   "execution_count": null,
   "id": "1f3fd088",
   "metadata": {},
   "outputs": [],
   "source": [
    "'''\n",
    "from IPython.display import HTML\n",
    "for row in status.iterrows():\n",
    "    color = tuple(row[1][['Red', 'Green', 'Blue']])\n",
    "    html = f'<div style=\"width: 50px; height: 50px; background-color: rgb{color};\"></div>'\n",
    "    display(HTML(html))\n",
    "'''"
   ]
  },
  {
   "cell_type": "markdown",
   "id": "b3ea8657",
   "metadata": {},
   "source": [
    "Create a map with the colors."
   ]
  },
  {
   "cell_type": "code",
   "execution_count": null,
   "id": "f11a5754",
   "metadata": {},
   "outputs": [],
   "source": [
    "colored_map = folium.Map(location=[pixels['Latitude'].mean(), pixels['Longitude'].mean()], zoom_start=5, tiles='Stamen Toner')\n",
    "for row in pixels.iterrows():\n",
    "    rgb_color = row[1]['Color']\n",
    "    hex_color = '#%02x%02x%02x' % (rgb_color[0], rgb_color[1], rgb_color[2])\n",
    "    folium.CircleMarker(location=[row[1]['Latitude'], row[1]['Longitude']], popup=str(row[1]['Pixel']) +' '+ row[1]['City'], radius=2, color=hex_color).add_to(colored_map)\n",
    "colored_map"
   ]
  },
  {
   "attachments": {},
   "cell_type": "markdown",
   "id": "b2c588ca",
   "metadata": {},
   "source": [
    "## Create a Map for CNC Toolpaths"
   ]
  },
  {
   "cell_type": "code",
   "execution_count": null,
   "id": "cd2c9071",
   "metadata": {},
   "outputs": [],
   "source": [
    "pixels.columns"
   ]
  },
  {
   "cell_type": "code",
   "execution_count": null,
   "id": "867fb1f2-b858-474a-a3c6-169fe80e74f4",
   "metadata": {},
   "outputs": [],
   "source": [
    "fig0 = go.Figure(data=go.Scattergeo(\n",
    "    lat = pixels['Latitude'],\n",
    "    lon = pixels['Longitude'],\n",
    "    text = pixels['City']\n",
    ")\n",
    "               )\n",
    "\n",
    "fig0.update_layout(\n",
    "    geo = dict(\n",
    "        scope = 'north america',\n",
    "        showland = True,\n",
    "        #landcolor = \"rgb(212, 212, 212)\",\n",
    "        landcolor = \"rgb(255, 255, 255)\",\n",
    "        subunitcolor = \"rgb(0, 0, 0)\",\n",
    "        countrycolor = \"rgb(255, 255, 255)\",\n",
    "        showlakes = False,\n",
    "        lakecolor = \"rgb(255, 255, 255)\",\n",
    "        showsubunits = True,\n",
    "        showcountries = True,\n",
    "        resolution = 50,\n",
    "        projection = dict(\n",
    "            type = 'conic conformal',\n",
    "            rotation_lon = -100\n",
    "        ),\n",
    "        lonaxis = dict(\n",
    "            showgrid = True,\n",
    "            gridwidth = 0.5,\n",
    "            range= [ -140.0, -55.0 ],\n",
    "            dtick = 5\n",
    "        ),\n",
    "        lataxis = dict (\n",
    "            showgrid = True,\n",
    "            gridwidth = 0.5,\n",
    "            range= [ 20.0, 60.0 ],\n",
    "            dtick = 5\n",
    "        )\n",
    "    ),\n",
    "    title='Cybera Member locations',\n",
    "    height=600,\n",
    "    width=600,\n",
    "    margin={\"r\":0,\"t\":0,\"l\":0,\"b\":0}\n",
    ")\n",
    "fig0.update_geos(lataxis_range=[48,61],\n",
    "               lonaxis_range=[-120,-110])\n",
    "print('Cybera Member Map')\n",
    "#fig0.write_html('output/membermap.html')\n",
    "fig0.show()"
   ]
  },
  {
   "cell_type": "markdown",
   "id": "5030ed99",
   "metadata": {},
   "source": [
    "Export an SVG for import into the CAM program"
   ]
  },
  {
   "cell_type": "code",
   "execution_count": null,
   "id": "28990f21",
   "metadata": {},
   "outputs": [],
   "source": [
    "try:\n",
    "    fig0.write_image('output/membermap.svg')\n",
    "except:\n",
    "    !pip install --user kaleido\n",
    "    fig0.write_image('output/membermap.svg')"
   ]
  },
  {
   "attachments": {},
   "cell_type": "markdown",
   "id": "c7fa29cc",
   "metadata": {},
   "source": [
    "## Wiring Diagrams"
   ]
  },
  {
   "cell_type": "code",
   "execution_count": null,
   "id": "4f88db38",
   "metadata": {},
   "outputs": [],
   "source": [
    "px.line(pixels, y='Latitude', x='Longitude', text='Pixel', hover_data=['Pixel','City','Latitude','Longitude'], height=1000, width=650).update_traces(mode='markers+lines+text', marker=dict(size=8), textposition='top center')"
   ]
  },
  {
   "cell_type": "code",
   "execution_count": null,
   "id": "d85d591a",
   "metadata": {},
   "outputs": [],
   "source": [
    "fig1 = px.line(pixels, y='Latitude', x='Longitude', height=1000, width=650)\n",
    "fig1.add_scatter(y=pixels['Latitude'], x=pixels['Longitude'], text=pixels['City'], mode='markers+text', textposition='middle right', marker=dict(size=10))\n",
    "fig1.add_scatter(y=pixels['Latitude'], x=pixels['Longitude'], text=pixels.index, mode='markers+text', textposition='bottom left', marker=dict(size=10))\n",
    "fig1.update_xaxes(showticklabels=False, title=None).update_yaxes(showticklabels=False, title=None)\n",
    "fig1.update_layout(showlegend=False, plot_bgcolor='rgba(0,0,0,0)', margin=dict(l=0, r=0, t=0, b=0))\n",
    "fig1.show()"
   ]
  },
  {
   "attachments": {},
   "cell_type": "markdown",
   "id": "539e0abb",
   "metadata": {},
   "source": [
    "### Reversed mode for labelling the back of the wood"
   ]
  },
  {
   "cell_type": "code",
   "execution_count": null,
   "id": "ce1aa847",
   "metadata": {},
   "outputs": [],
   "source": [
    "backwards_map = pixels.copy()\n",
    "backwards_map['Longitude_reversed'] = backwards_map['Longitude'] * -1\n",
    "fig2 = px.line(backwards_map, y='Latitude', x='Longitude_reversed', height=1030, width=650, title='Reversed Map For Wiring')\n",
    "fig2.add_scatter(y=backwards_map['Latitude'], x=backwards_map['Longitude_reversed'], text=backwards_map['City'], mode='markers+text', textposition='middle right', marker=dict(size=10))\n",
    "fig2.add_scatter(y=backwards_map['Latitude'], x=backwards_map['Longitude_reversed'], text=backwards_map.index, mode='markers+text', textposition='bottom left', marker=dict(size=10))\n",
    "fig2.update_xaxes(showticklabels=False, title=None).update_yaxes(showticklabels=False, title=None)\n",
    "fig2.update_layout(showlegend=False, plot_bgcolor='rgba(0,0,0,0)', margin=dict(l=0, r=0, t=30, b=0))\n",
    "#fig2.write_image('output/reversed_wire_map.png')\n",
    "fig2.show()"
   ]
  },
  {
   "cell_type": "markdown",
   "id": "06f8ad86",
   "metadata": {},
   "source": [
    "## Enable Dark Mode"
   ]
  },
  {
   "cell_type": "code",
   "execution_count": null,
   "id": "3886377b",
   "metadata": {},
   "outputs": [],
   "source": [
    "import pandas as pd\n",
    "status = pd.read_csv('../docs/status.csv')\n",
    "for n in range(len(status)):\n",
    "    status.iloc[n][1:] = 0\n",
    "status.to_csv('../docs/status.csv', index=False)\n",
    "status"
   ]
  }
 ],
 "metadata": {
  "kernelspec": {
   "display_name": "Python 3",
   "language": "python",
   "name": "python3"
  },
  "language_info": {
   "codemirror_mode": {
    "name": "ipython",
    "version": 3
   },
   "file_extension": ".py",
   "mimetype": "text/x-python",
   "name": "python",
   "nbconvert_exporter": "python",
   "pygments_lexer": "ipython3",
   "version": "3.10.4"
  },
  "vscode": {
   "interpreter": {
    "hash": "916dbcbb3f70747c44a77c7bcd40155683ae19c65e1c03b4aa3499c5328201f1"
   }
  }
 },
 "nbformat": 4,
 "nbformat_minor": 5
}
