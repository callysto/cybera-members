{
 "cells": [
  {
   "cell_type": "code",
   "execution_count": null,
   "id": "60dacd93-713c-48c4-a170-df37179f053f",
   "metadata": {},
   "outputs": [],
   "source": [
    "import geopandas\n",
    "import pandas as pd\n",
    "import pgeocode\n",
    "import plotly.graph_objects as go\n",
    "nomi = pgeocode.Nominatim('ca')\n",
    "from sklearn import cluster\n",
    "import ipywidgets as widgets"
   ]
  },
  {
   "cell_type": "code",
   "execution_count": null,
   "id": "5e5ca7aa-22c8-4028-aec5-b6eabcfb3fb3",
   "metadata": {},
   "outputs": [],
   "source": [
    "data = pd.read_csv('data/Connected member addresses for network map November 2022 - Sheet1.csv', header=None, \n",
    "                   names=['Member', 'Address', 'City', 'Postal Code'])\n",
    "data.iloc[56]['Postal Code'] = 'T0L 0Z0' # Someone entered this wihout a space\n",
    "data.drop([36, 38], axis=0, inplace=True) # Centers in Germany and France\n",
    "data"
   ]
  },
  {
   "cell_type": "code",
   "execution_count": null,
   "id": "383c1dac-72b4-48c7-898b-d26870e2774e",
   "metadata": {},
   "outputs": [],
   "source": [
    "lats = []\n",
    "lons = []\n",
    "for i in data['Postal Code']:\n",
    "    location = nomi.query_postal_code(i)\n",
    "    lats.append(location['latitude'])\n",
    "    lons.append(location['longitude'])\n",
    "data['lat'] = lats\n",
    "data['lon'] = lons\n",
    "data['geometry'] = geopandas.points_from_xy(data['lat'], data['lon'])\n",
    "data"
   ]
  },
  {
   "cell_type": "code",
   "execution_count": null,
   "id": "867fb1f2-b858-474a-a3c6-169fe80e74f4",
   "metadata": {},
   "outputs": [],
   "source": [
    "fig = go.Figure(data=go.Scattergeo(\n",
    "    lat = data['lat'],\n",
    "    lon = data['lon'],\n",
    "    text = data['Member']\n",
    ")\n",
    "               )\n",
    "\n",
    "fig.update_layout(\n",
    "    geo = dict(\n",
    "        scope = 'north america',\n",
    "        showland = True,\n",
    "        #landcolor = \"rgb(212, 212, 212)\",\n",
    "        landcolor = \"rgb(255, 255, 255)\",\n",
    "        subunitcolor = \"rgb(0, 0, 0)\",\n",
    "        countrycolor = \"rgb(255, 255, 255)\",\n",
    "        showlakes = False,\n",
    "        lakecolor = \"rgb(255, 255, 255)\",\n",
    "        showsubunits = True,\n",
    "        showcountries = True,\n",
    "        resolution = 50,\n",
    "        projection = dict(\n",
    "            type = 'conic conformal',\n",
    "            rotation_lon = -100\n",
    "        ),\n",
    "        lonaxis = dict(\n",
    "            showgrid = True,\n",
    "            gridwidth = 0.5,\n",
    "            range= [ -140.0, -55.0 ],\n",
    "            dtick = 5\n",
    "        ),\n",
    "        lataxis = dict (\n",
    "            showgrid = True,\n",
    "            gridwidth = 0.5,\n",
    "            range= [ 20.0, 60.0 ],\n",
    "            dtick = 5\n",
    "        )\n",
    "    ),\n",
    "    title='Cybera Member locations',\n",
    "    height=600,\n",
    "    width=600,\n",
    "    margin={\"r\":0,\"t\":0,\"l\":0,\"b\":0}\n",
    ")\n",
    "fig.update_geos(lataxis_range=[48,61],\n",
    "               lonaxis_range=[-120,-110])\n",
    "fig.show()\n",
    "#fig.write_html('membermap.html')"
   ]
  },
  {
   "cell_type": "code",
   "execution_count": null,
   "id": "28990f21",
   "metadata": {},
   "outputs": [],
   "source": [
    "#!pip install kaleido\n",
    "# fig.write_image('membermap.svg')"
   ]
  },
  {
   "cell_type": "markdown",
   "id": "b9d60158",
   "metadata": {},
   "source": [
    "## Finding Scale distances on a 4x8 sheet of plywood"
   ]
  },
  {
   "cell_type": "code",
   "execution_count": null,
   "id": "24a55e79",
   "metadata": {},
   "outputs": [],
   "source": [
    "'''\n",
    "try:\n",
    "    import haversine as hs\n",
    "except:\n",
    "    !pip install --user haversine\n",
    "    import haversine as hs\n",
    "'''\n",
    "x_range = [data['lon'].max(), data['lon'].min()]\n",
    "y_range = [data['lat'].max(), data['lat'].min()]\n",
    "data['x'] = (data['lon'] - x_range[1]) / (x_range[0] - x_range[1])\n",
    "data['y'] = (data['lat'] - y_range[1]) / (y_range[0] - y_range[1])\n",
    "data['x inches'] = data['x'] * 46\n",
    "data['y inches'] = data['y'] * 46\n",
    "data"
   ]
  },
  {
   "cell_type": "code",
   "execution_count": null,
   "id": "ef57c5cb",
   "metadata": {},
   "outputs": [],
   "source": [
    "import plotly.express as px\n",
    "fig2 = px.scatter(data, x='x inches', y='y inches', hover_name='Member', hover_data=['Address', 'City', 'Postal Code'], height=800, width=400)\n",
    "fig2.update_xaxes(range=[0, 48])\n",
    "fig2.update_yaxes(range=[0, 96])\n",
    "fig2.show()\n",
    "fig.show()"
   ]
  },
  {
   "cell_type": "markdown",
   "id": "63a88931-e8af-483e-887e-5d0cc1884395",
   "metadata": {},
   "source": [
    "## Clustering\n",
    "\n",
    "What points should we consider clustering? With [DBSCAN](https://scikit-learn.org/stable/modules/generated/sklearn.cluster.DBSCAN.html) we can similarly group nearby members.\n",
    "\n",
    "An epsilon value of 1 equates to 111km of latitude and between 60 to 72km of longitude (given the latitude of the northernmest and southernmost members, respectively)."
   ]
  },
  {
   "cell_type": "code",
   "execution_count": null,
   "id": "10627a75-58e5-4238-90df-3609a6d34b48",
   "metadata": {},
   "outputs": [],
   "source": [
    "import plotly\n",
    "X = data[['lat', 'lon', 'Member']]\n",
    "\n",
    "# Set value of epsilon here to determine radius of clustering algorithmn\n",
    "epsilon = 0.4\n",
    "\n",
    "cl = cluster.DBSCAN(eps=epsilon, min_samples=1).fit(X[['lat', 'lon']])\n",
    "X['Label'] = cl.labels_\n",
    "        \n",
    "fig = go.Figure(data=go.Scattergeo(\n",
    "    lat = data['lat'],\n",
    "    lon = data['lon'],\n",
    "    text = data['Member'],\n",
    "    marker=dict(color=X['Label'], colorscale=plotly.colors.qualitative.Dark24))\n",
    ")\n",
    "\n",
    "fig.update_layout(\n",
    "    geo = dict(\n",
    "        scope = 'north america',\n",
    "        showland = True,\n",
    "        #landcolor = \"rgb(212, 212, 212)\",\n",
    "        landcolor = \"rgb(255, 255, 255)\",\n",
    "        subunitcolor = \"rgb(0, 0, 0)\",\n",
    "        countrycolor = \"rgb(255, 255, 255)\",\n",
    "        showlakes = False,\n",
    "        lakecolor = \"rgb(255, 255, 255)\",\n",
    "        showsubunits = True,\n",
    "        showcountries = True,\n",
    "        resolution = 50,\n",
    "        projection = dict(\n",
    "            type = 'conic conformal',\n",
    "            rotation_lon = -100\n",
    "        ),\n",
    "        lonaxis = dict(\n",
    "            showgrid = True,\n",
    "            gridwidth = 0.5,\n",
    "            range= [ -140.0, -55.0 ],\n",
    "            dtick = 5\n",
    "        ),\n",
    "        lataxis = dict (\n",
    "            showgrid = True,\n",
    "            gridwidth = 0.5,\n",
    "            range= [ 20.0, 60.0 ],\n",
    "            dtick = 5\n",
    "        )\n",
    "    ),\n",
    "    title='Cybera Member locations',\n",
    "    height=600,\n",
    "    width=600,\n",
    "    margin={\"r\":0,\"t\":0,\"l\":0,\"b\":0}\n",
    ")\n",
    "fig.update_geos(lataxis_range=[48,61],\n",
    "               lonaxis_range=[-120,-110])\n",
    "fig.show()\n",
    "#fig.write_html('membermap.html')\n",
    "display(X)\n",
    "print(f\"Unique clusters (for number of LEDs): {len(X['Label'].unique())}.\\nEvery member that's within an ellipse of {round(111*epsilon,2)}km of latitude and ~{round(66*epsilon,2)}km of longitude with another member, belongs to the same cluster\")"
   ]
  },
  {
   "cell_type": "code",
   "execution_count": null,
   "id": "46e8e99b-0b6e-41a5-bfb8-13b93473f413",
   "metadata": {},
   "outputs": [],
   "source": [
    "# # Plotly discrete colour swatches\n",
    "# import plotly\n",
    "# plotly.colors.qualitative.swatches()"
   ]
  },
  {
   "cell_type": "code",
   "execution_count": null,
   "id": "0fa36bdc-8517-4cb3-b5f7-5d6d40d93e90",
   "metadata": {},
   "outputs": [],
   "source": []
  }
 ],
 "metadata": {
  "kernelspec": {
   "display_name": "Python 3 (ipykernel)",
   "language": "python",
   "name": "python3"
  },
  "language_info": {
   "codemirror_mode": {
    "name": "ipython",
    "version": 3
   },
   "file_extension": ".py",
   "mimetype": "text/x-python",
   "name": "python",
   "nbconvert_exporter": "python",
   "pygments_lexer": "ipython3",
   "version": "3.9.12"
  },
  "vscode": {
   "interpreter": {
    "hash": "916dbcbb3f70747c44a77c7bcd40155683ae19c65e1c03b4aa3499c5328201f1"
   }
  }
 },
 "nbformat": 4,
 "nbformat_minor": 5
}
